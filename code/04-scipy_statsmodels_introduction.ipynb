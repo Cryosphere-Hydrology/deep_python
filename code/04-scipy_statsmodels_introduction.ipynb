{
 "cells": [
  {
   "cell_type": "markdown",
   "metadata": {},
   "source": [
    "<img width=700px; src=\"../img/logoUPSayPlusCDS_990.png\">\n",
    "\n",
    "<p style=\"margin-top: 3em; margin-bottom: 2em;\"><b><big><big><big><big>Introduction to Scipy and Statsmodels libraries</big></big></big></big></b></p>"
   ]
  },
  {
   "cell_type": "code",
   "execution_count": 44,
   "metadata": {},
   "outputs": [],
   "source": [
    "%matplotlib inline\n",
    "import numpy as np\n",
    "import matplotlib.pyplot as plt"
   ]
  },
  {
   "cell_type": "markdown",
   "metadata": {},
   "source": [
    "The SciPy library is one of the core packages that make up the SciPy stack. It provides many user-friendly and efficient numerical routines such as routines for numerical integration and optimization."
   ]
  },
  {
   "cell_type": "markdown",
   "metadata": {},
   "source": [
    "## 1. File input/output - `scipy.io`"
   ]
  },
  {
   "cell_type": "markdown",
   "metadata": {},
   "source": [
    "Scipy provides an `io` module to help load some data type. We can easily read MATLAB `.mat` files using `io.loadmat` and `io.savemat`."
   ]
  },
  {
   "cell_type": "code",
   "execution_count": 22,
   "metadata": {},
   "outputs": [
    {
     "data": {
      "text/plain": [
       "array([[1., 1., 1.],\n",
       "       [1., 1., 1.],\n",
       "       [1., 1., 1.]])"
      ]
     },
     "execution_count": 22,
     "metadata": {},
     "output_type": "execute_result"
    }
   ],
   "source": [
    "from scipy.io import loadmat, savemat\n",
    "a = np.ones((3, 3))\n",
    "savemat('file.mat', {'a': a}) # savemat expects a dictionary\n",
    "data = loadmat('file.mat', struct_as_record=True)\n",
    "data['a']"
   ]
  },
  {
   "cell_type": "markdown",
   "metadata": {},
   "source": [
    "<div class=\"alert alert-success\">\n",
    "\n",
    "<b>EXERCISE - `scipy.io`</b>:\n",
    "\n",
    " <ul>\n",
    "  <li>Load the matfile from `data/spectra.mat` using `scipy.io.loadmat`.</li>\n",
    "  <li>Extract from the loaded dictionary two variables (`spectra`, `frequency`). You should call `ravel` the `frequency` array to obtain a 1-D array.</li>\n",
    "  <li>Plot the spectra in function of the frequency.</li>\n",
    "</ul>\n",
    "\n",
    "</div>"
   ]
  },
  {
   "cell_type": "code",
   "execution_count": 23,
   "metadata": {},
   "outputs": [],
   "source": [
    "data = loadmat('data/spectra.mat', struct_as_record=True)"
   ]
  },
  {
   "cell_type": "code",
   "execution_count": 24,
   "metadata": {},
   "outputs": [
    {
     "data": {
      "text/plain": [
       "{'__header__': b'MATLAB 5.0 MAT-file Platform: posix, Created on: Sun Jul  2 10:28:00 2017',\n",
       " '__version__': '1.0',\n",
       " '__globals__': [],\n",
       " 'spectra': array([[0.0152963, 0.0152944, 0.0153142, ..., 0.017305 , 0.0170706,\n",
       "         0.0172018],\n",
       "        [0.0143634, 0.0143292, 0.0143999, ..., 0.018519 , 0.0186104,\n",
       "         0.0187633],\n",
       "        [0.0163027, 0.0161848, 0.0163573, ..., 0.017772 , 0.0179032,\n",
       "         0.0175998],\n",
       "        ...,\n",
       "        [0.0145195, 0.014399 , 0.0143937, ..., 0.0176497, 0.0174543,\n",
       "         0.0174893],\n",
       "        [0.0157462, 0.015478 , 0.0154057, ..., 0.0177981, 0.0178682,\n",
       "         0.0179989],\n",
       "        [0.0160526, 0.0163989, 0.0162803, ..., 0.0182082, 0.0180114,\n",
       "         0.0182391]]),\n",
       " 'frequency': array([[ 400.095,  402.626,  405.155, ..., 3996.41 , 3997.88 , 3999.36 ]])}"
      ]
     },
     "execution_count": 24,
     "metadata": {},
     "output_type": "execute_result"
    }
   ],
   "source": [
    "data"
   ]
  },
  {
   "cell_type": "code",
   "execution_count": 25,
   "metadata": {},
   "outputs": [
    {
     "data": {
      "text/plain": [
       "array([[0.0152963, 0.0152944, 0.0153142, ..., 0.017305 , 0.0170706,\n",
       "        0.0172018],\n",
       "       [0.0143634, 0.0143292, 0.0143999, ..., 0.018519 , 0.0186104,\n",
       "        0.0187633],\n",
       "       [0.0163027, 0.0161848, 0.0163573, ..., 0.017772 , 0.0179032,\n",
       "        0.0175998],\n",
       "       ...,\n",
       "       [0.0145195, 0.014399 , 0.0143937, ..., 0.0176497, 0.0174543,\n",
       "        0.0174893],\n",
       "       [0.0157462, 0.015478 , 0.0154057, ..., 0.0177981, 0.0178682,\n",
       "        0.0179989],\n",
       "       [0.0160526, 0.0163989, 0.0162803, ..., 0.0182082, 0.0180114,\n",
       "        0.0182391]])"
      ]
     },
     "execution_count": 25,
     "metadata": {},
     "output_type": "execute_result"
    }
   ],
   "source": [
    "data['spectra']"
   ]
  },
  {
   "cell_type": "code",
   "execution_count": 32,
   "metadata": {},
   "outputs": [
    {
     "data": {
      "text/plain": [
       "(1, 1866)"
      ]
     },
     "execution_count": 32,
     "metadata": {},
     "output_type": "execute_result"
    }
   ],
   "source": [
    "data['frequency'].shape"
   ]
  },
  {
   "cell_type": "code",
   "execution_count": 33,
   "metadata": {
    "scrolled": true
   },
   "outputs": [
    {
     "data": {
      "text/plain": [
       "(1866,)"
      ]
     },
     "execution_count": 33,
     "metadata": {},
     "output_type": "execute_result"
    }
   ],
   "source": [
    "data['frequency'][0,:].shape"
   ]
  },
  {
   "cell_type": "code",
   "execution_count": 35,
   "metadata": {},
   "outputs": [
    {
     "data": {
      "text/plain": [
       "(1866,)"
      ]
     },
     "execution_count": 35,
     "metadata": {},
     "output_type": "execute_result"
    }
   ],
   "source": [
    "import numpy as np\n",
    "np.ravel(data['frequency'], 'C').shape"
   ]
  },
  {
   "cell_type": "code",
   "execution_count": 42,
   "metadata": {},
   "outputs": [
    {
     "data": {
      "text/plain": [
       "(190, 1866)"
      ]
     },
     "execution_count": 42,
     "metadata": {},
     "output_type": "execute_result"
    }
   ],
   "source": [
    "data['spectra'].shape"
   ]
  },
  {
   "cell_type": "code",
   "execution_count": 43,
   "metadata": {},
   "outputs": [
    {
     "data": {
      "text/plain": [
       "array([0.0152963, 0.0152944, 0.0153142, ..., 0.017305 , 0.0170706,\n",
       "       0.0172018])"
      ]
     },
     "execution_count": 43,
     "metadata": {},
     "output_type": "execute_result"
    }
   ],
   "source": [
    "data['spectra'][0,:]"
   ]
  },
  {
   "cell_type": "code",
   "execution_count": 49,
   "metadata": {},
   "outputs": [
    {
     "data": {
      "text/plain": [
       "[<matplotlib.lines.Line2D at 0x7f10a4ae9588>]"
      ]
     },
     "execution_count": 49,
     "metadata": {},
     "output_type": "execute_result"
    },
    {
     "data": {
      "image/png": "[encoded data removed]",
      "text/plain": [
       "<Figure size 432x288 with 1 Axes>"
      ]
     },
     "metadata": {
      "needs_background": "light"
     },
     "output_type": "display_data"
    }
   ],
   "source": [
    "plt.plot( data['frequency'][0,:], data['spectra'][0,:])\n",
    "plt.plot( data['frequency'][0,:], data['spectra'][1,:])"
   ]
  },
  {
   "cell_type": "code",
   "execution_count": 52,
   "metadata": {},
   "outputs": [
    {
     "data": {
      "image/png": "[encoded data removed]",
      "text/plain": [
       "<Figure size 432x288 with 1 Axes>"
      ]
     },
     "metadata": {
      "needs_background": "light"
     },
     "output_type": "display_data"
    }
   ],
   "source": [
    "for i in range(data['spectra'].shape[0]):\n",
    "    plt.plot( data['frequency'][0,:], data['spectra'][i,:])"
   ]
  },
  {
   "cell_type": "code",
   "execution_count": 48,
   "metadata": {},
   "outputs": [
    {
     "data": {
      "text/plain": [
       "[<matplotlib.lines.Line2D at 0x7f10a4b36d68>]"
      ]
     },
     "execution_count": 48,
     "metadata": {},
     "output_type": "execute_result"
    },
    {
     "data": {
      "image/png": "[encoded data removed]",
      "text/plain": [
       "<Figure size 432x288 with 1 Axes>"
      ]
     },
     "metadata": {
      "needs_background": "light"
     },
     "output_type": "display_data"
    }
   ],
   "source": [
    "plt.plot( data['frequency'][0,:], data['spectra'][1,:])"
   ]
  },
  {
   "cell_type": "code",
   "execution_count": 56,
   "metadata": {},
   "outputs": [
    {
     "data": {
      "text/plain": [
       "(1866,)"
      ]
     },
     "execution_count": 56,
     "metadata": {},
     "output_type": "execute_result"
    }
   ],
   "source": [
    "data['frequency'][0,:].astype('int')"
   ]
  },
  {
   "cell_type": "markdown",
   "metadata": {},
   "source": [
    "## 2. Signal interpolation - `scipy.interpolate`"
   ]
  },
  {
   "cell_type": "markdown",
   "metadata": {},
   "source": [
    "The scipy.interpolate is useful for fitting a function from experimental data and thus evaluating points where no measure exists. By imagining experimental data close to a sine function:"
   ]
  },
  {
   "cell_type": "code",
   "execution_count": 37,
   "metadata": {},
   "outputs": [],
   "source": [
    "measured_time = np.linspace(0, 1, 10)\n",
    "noise = (np.random.random(10)*2 - 1) * 1e-1\n",
    "measures = np.sin(2 * np.pi * measured_time) + noise"
   ]
  },
  {
   "cell_type": "markdown",
   "metadata": {},
   "source": [
    "The `scipy.interpolate.interp1d` class can build a linear interpolation function:"
   ]
  },
  {
   "cell_type": "code",
   "execution_count": 38,
   "metadata": {},
   "outputs": [],
   "source": [
    "from scipy.interpolate import interp1d\n",
    "linear_interp = interp1d(measured_time, measures)"
   ]
  },
  {
   "cell_type": "markdown",
   "metadata": {},
   "source": [
    "Then the `scipy.interpolate.linear_interp` instance needs to be evaluated at the time of interest:"
   ]
  },
  {
   "cell_type": "code",
   "execution_count": 39,
   "metadata": {},
   "outputs": [],
   "source": [
    "computed_time = np.linspace(0, 1, 50)\n",
    "linear_results = linear_interp(computed_time)"
   ]
  },
  {
   "cell_type": "markdown",
   "metadata": {},
   "source": [
    "A cubic interpolation can also be selected by providing the `kind` optional keyword argument:"
   ]
  },
  {
   "cell_type": "code",
   "execution_count": 40,
   "metadata": {},
   "outputs": [],
   "source": [
    "cubic_interp = interp1d(measured_time, measures, kind='cubic')\n",
    "cubic_results = cubic_interp(computed_time)"
   ]
  },
  {
   "cell_type": "markdown",
   "metadata": {},
   "source": [
    "Let's see the difference by plotting the results."
   ]
  },
  {
   "cell_type": "code",
   "execution_count": 41,
   "metadata": {},
   "outputs": [
    {
     "data": {
      "image/png": "[encoded data removed]",
      "text/plain": [
       "<Figure size 432x288 with 1 Axes>"
      ]
     },
     "metadata": {
      "needs_background": "light"
     },
     "output_type": "display_data"
    }
   ],
   "source": [
    "plt.plot(measured_time, measures, 'or', label='Measures')\n",
    "plt.plot(computed_time, linear_results, label='Linear interpolation')\n",
    "plt.plot(computed_time, cubic_results, label='Cubic interpolation')\n",
    "plt.legend()\n",
    "plt.xlabel('Time')\n",
    "plt.ylabel('Amplitude')\n",
    "plt.show()"
   ]
  },
  {
   "cell_type": "markdown",
   "metadata": {},
   "source": [
    "<div class=\"alert alert-success\">\n",
    "\n",
    "<b>EXERCISE - `scipy.interpolate`</b>:\n",
    "\n",
    " <ul>\n",
    "  <li>Interpolate each spectra values corresponding to the integral frequencies {401, 402, ..., 3999} using `scipy.interpolate.interp1d`.</li>\n",
    "  <li>Plot the spectra in function of the frequencies.</li>\n",
    "</ul>\n",
    "\n",
    "</div>"
   ]
  },
  {
   "cell_type": "code",
   "execution_count": 69,
   "metadata": {},
   "outputs": [],
   "source": [
    "freq =data['frequency'][0,:]"
   ]
  },
  {
   "cell_type": "code",
   "execution_count": 59,
   "metadata": {},
   "outputs": [
    {
     "data": {
      "text/plain": [
       "array([ 400.095,  402.626,  405.155, ..., 3996.41 , 3997.88 , 3999.36 ])"
      ]
     },
     "execution_count": 59,
     "metadata": {},
     "output_type": "execute_result"
    }
   ],
   "source": [
    "data['frequency'][0,:]"
   ]
  },
  {
   "cell_type": "code",
   "execution_count": 73,
   "metadata": {},
   "outputs": [],
   "source": [
    "from scipy.interpolate import interp1d\n",
    "linear_interp = interp1d(freq, data['spectra'][0,:])"
   ]
  },
  {
   "cell_type": "code",
   "execution_count": 74,
   "metadata": {},
   "outputs": [
    {
     "name": "stdout",
     "output_type": "stream",
     "text": [
      "[ 400.095  402.626  405.155 ... 3996.41  3997.88  3999.36 ]\n",
      "[0.0152963 0.0152944 0.0153142 ... 0.017305  0.0170706 0.0172018]\n"
     ]
    }
   ],
   "source": [
    "#print x values i.e. frequencies\n",
    "print(linear_interp.x)\n",
    "# print y values i.e. spectra\n",
    "print(linear_interp.y)"
   ]
  },
  {
   "cell_type": "code",
   "execution_count": 76,
   "metadata": {},
   "outputs": [],
   "source": [
    "freq_int =data['frequency'][0,:].astype('int')\n",
    "freq_int[0]=401\n",
    "linear_results = linear_interp(freq_int)"
   ]
  },
  {
   "cell_type": "code",
   "execution_count": 77,
   "metadata": {},
   "outputs": [
    {
     "data": {
      "text/plain": [
       "array([0.01529562, 0.01529487, 0.01531299, ..., 0.01734045, 0.01721092,\n",
       "       0.01716989])"
      ]
     },
     "execution_count": 77,
     "metadata": {},
     "output_type": "execute_result"
    }
   ],
   "source": [
    "linear_results"
   ]
  },
  {
   "cell_type": "code",
   "execution_count": 80,
   "metadata": {},
   "outputs": [
    {
     "data": {
      "text/plain": [
       "[<matplotlib.lines.Line2D at 0x7f10a4a7ffd0>]"
      ]
     },
     "execution_count": 80,
     "metadata": {},
     "output_type": "execute_result"
    },
    {
     "data": {
      "image/png": "[encoded data removed]",
      "text/plain": [
       "<Figure size 432x288 with 1 Axes>"
      ]
     },
     "metadata": {
      "needs_background": "light"
     },
     "output_type": "display_data"
    }
   ],
   "source": [
    "plt.plot( data['frequency'][0,:], data['spectra'][0,:])\n",
    "plt.plot( freq_int, linear_results)"
   ]
  },
  {
   "cell_type": "code",
   "execution_count": 86,
   "metadata": {},
   "outputs": [],
   "source": [
    "nspectra = data['spectra'].shape[0]\n",
    "nfreq = data['spectra'].shape[1]\n",
    "result_spectra = np.zeros((nspectra,nfreq))"
   ]
  },
  {
   "cell_type": "code",
   "execution_count": 87,
   "metadata": {},
   "outputs": [
    {
     "data": {
      "text/plain": [
       "array([[0., 0., 0., ..., 0., 0., 0.],\n",
       "       [0., 0., 0., ..., 0., 0., 0.],\n",
       "       [0., 0., 0., ..., 0., 0., 0.],\n",
       "       ...,\n",
       "       [0., 0., 0., ..., 0., 0., 0.],\n",
       "       [0., 0., 0., ..., 0., 0., 0.],\n",
       "       [0., 0., 0., ..., 0., 0., 0.]])"
      ]
     },
     "execution_count": 87,
     "metadata": {},
     "output_type": "execute_result"
    }
   ],
   "source": [
    "result_spectra"
   ]
  },
  {
   "cell_type": "code",
   "execution_count": 88,
   "metadata": {},
   "outputs": [],
   "source": [
    "freq_int =data['frequency'][0,:].astype('int')\n",
    "freq_int[0]=401\n",
    "for i in range(nspectra):\n",
    "    linear_interp = interp1d(freq, data['spectra'][i,:])\n",
    "    result_spectra[i,:] = linear_interp(freq_int)"
   ]
  },
  {
   "cell_type": "code",
   "execution_count": 91,
   "metadata": {},
   "outputs": [
    {
     "data": {
      "text/plain": [
       "(190, 1866)"
      ]
     },
     "execution_count": 91,
     "metadata": {},
     "output_type": "execute_result"
    }
   ],
   "source": [
    "result_spectra.shape"
   ]
  },
  {
   "cell_type": "code",
   "execution_count": 95,
   "metadata": {},
   "outputs": [
    {
     "name": "stdout",
     "output_type": "stream",
     "text": [
      "[410 412 415]\n"
     ]
    },
    {
     "data": {
      "text/plain": [
       "array([[0.01550607, 0.01554446, 0.01559222],\n",
       "       [0.02304283, 0.02301972, 0.02346353],\n",
       "       [0.01795838, 0.01789572, 0.01763386],\n",
       "       [0.02535394, 0.02532898, 0.02531225],\n",
       "       [0.01367022, 0.01358501, 0.01372241],\n",
       "       [0.01876713, 0.01874582, 0.01900656],\n",
       "       [0.01929296, 0.0191357 , 0.01915579],\n",
       "       [0.01384247, 0.01369523, 0.01383032],\n",
       "       [0.01326565, 0.01328914, 0.01363981],\n",
       "       [0.01777929, 0.01781275, 0.01794523],\n",
       "       [0.02060914, 0.02045781, 0.02062953],\n",
       "       [0.01760502, 0.01760551, 0.0177139 ],\n",
       "       [0.02845185, 0.0282128 , 0.02786759],\n",
       "       [0.01637557, 0.01647289, 0.01627965],\n",
       "       [0.01639167, 0.01654387, 0.01655974],\n",
       "       [0.01791956, 0.01808867, 0.01802987],\n",
       "       [0.01431332, 0.01436296, 0.01457787],\n",
       "       [0.01464144, 0.01452652, 0.01454812],\n",
       "       [0.01366555, 0.0137008 , 0.01375051]])"
      ]
     },
     "execution_count": 95,
     "metadata": {},
     "output_type": "execute_result"
    }
   ],
   "source": [
    "print(freq_int[4:7])\n",
    "result_spectra[::10,4:7]"
   ]
  },
  {
   "cell_type": "code",
   "execution_count": 103,
   "metadata": {},
   "outputs": [
    {
     "name": "stdout",
     "output_type": "stream",
     "text": [
      "[ 400.095  550.451  697.855  842.389  984.135 1123.17  1259.58  1393.42\n",
      " 1524.77  1653.69  1780.26  1904.53  2026.56  2146.42  2264.15  2379.82\n",
      " 2493.48  2605.17  2714.02  2822.33  2928.83  3033.55  3136.54  3237.85\n",
      " 3337.5   3435.54  3532.01  3626.94  3720.37  3812.33  3902.86  3991.99 ]\n"
     ]
    },
    {
     "data": {
      "image/png": "[encoded data removed]",
      "text/plain": [
       "<Figure size 432x288 with 1 Axes>"
      ]
     },
     "metadata": {
      "needs_background": "light"
     },
     "output_type": "display_data"
    }
   ],
   "source": [
    "print( data['frequency'][0,::60])\n",
    "for i in range(0,nspectra,50):\n",
    "    plt.plot( data['frequency'][0,::60], result_spectra[i,::60])"
   ]
  },
  {
   "cell_type": "markdown",
   "metadata": {},
   "source": [
    "## 3. Optimization - `scipy.optimize`"
   ]
  },
  {
   "cell_type": "markdown",
   "metadata": {},
   "source": [
    "Optimization is the problem of finding a numerical solution to a minimization or equality.\n",
    "\n",
    "The scipy.optimize module provides useful algorithms for function minimization (scalar or multi-dimensional), curve fitting and root finding."
   ]
  },
  {
   "cell_type": "code",
   "execution_count": 8,
   "metadata": {},
   "outputs": [],
   "source": [
    "from scipy import optimize"
   ]
  },
  {
   "cell_type": "markdown",
   "metadata": {},
   "source": [
    "### Finding the minimum of a scalar function\n",
    "\n",
    "Let’s define the following function:"
   ]
  },
  {
   "cell_type": "code",
   "execution_count": 9,
   "metadata": {},
   "outputs": [],
   "source": [
    "def f(x):\n",
    "    return x ** 2 + 10 * np.sin(x)"
   ]
  },
  {
   "cell_type": "markdown",
   "metadata": {},
   "source": [
    "and plot it:"
   ]
  },
  {
   "cell_type": "code",
   "execution_count": 10,
   "metadata": {},
   "outputs": [
    {
     "data": {
      "image/png": "[encoded data removed]",
      "text/plain": [
       "<Figure size 432x288 with 1 Axes>"
      ]
     },
     "metadata": {
      "needs_background": "light"
     },
     "output_type": "display_data"
    }
   ],
   "source": [
    "x = np.arange(-10, 10, 0.1)\n",
    "plt.plot(x, f(x))\n",
    "plt.show()"
   ]
  },
  {
   "cell_type": "markdown",
   "metadata": {},
   "source": [
    "This function has a global minimum around -1.3 and a local minimum around 3.8.\n",
    "\n",
    "The general and efficient way to find a minimum for this function is to conduct a gradient descent starting from a given initial point. The BFGS algorithm is a good way of doing this:"
   ]
  },
  {
   "cell_type": "code",
   "execution_count": 11,
   "metadata": {},
   "outputs": [
    {
     "data": {
      "text/plain": [
       "      fun: array([-7.94582338])\n",
       " hess_inv: <1x1 LbfgsInvHessProduct with dtype=float64>\n",
       "      jac: array([-1.42108547e-06])\n",
       "  message: b'CONVERGENCE: NORM_OF_PROJECTED_GRADIENT_<=_PGTOL'\n",
       "     nfev: 12\n",
       "      nit: 5\n",
       "   status: 0\n",
       "  success: True\n",
       "        x: array([-1.30644013])"
      ]
     },
     "execution_count": 11,
     "metadata": {},
     "output_type": "execute_result"
    }
   ],
   "source": [
    "res = optimize.minimize(f, 0, method='L-BFGS-B')\n",
    "res"
   ]
  },
  {
   "cell_type": "markdown",
   "metadata": {},
   "source": [
    "A possible issue with this approach is that, if the function has local minima the algorithm may find these local minima instead of the global minimum depending on the initial point:"
   ]
  },
  {
   "cell_type": "code",
   "execution_count": 12,
   "metadata": {},
   "outputs": [
    {
     "data": {
      "text/plain": [
       "      fun: array([8.31558558])\n",
       " hess_inv: <1x1 LbfgsInvHessProduct with dtype=float64>\n",
       "      jac: array([-1.77635684e-07])\n",
       "  message: b'CONVERGENCE: NORM_OF_PROJECTED_GRADIENT_<=_PGTOL'\n",
       "     nfev: 14\n",
       "      nit: 6\n",
       "   status: 0\n",
       "  success: True\n",
       "        x: array([3.83746709])"
      ]
     },
     "execution_count": 12,
     "metadata": {},
     "output_type": "execute_result"
    }
   ],
   "source": [
    "res2 = optimize.minimize(f, 3, method='L-BFGS-B')\n",
    "res2"
   ]
  },
  {
   "cell_type": "markdown",
   "metadata": {},
   "source": [
    "If we don’t know the neighborhood of the global minimum to choose the initial point, we need to resort to costlier global optimization. To find the global minimum, we use `scipy.optimize.basinhopping()` (which combines a local optimizer with stochastic sampling of starting points for the local optimizer):"
   ]
  },
  {
   "cell_type": "code",
   "execution_count": 13,
   "metadata": {
    "scrolled": true
   },
   "outputs": [
    {
     "data": {
      "text/plain": [
       "                        fun: -7.9458233756152845\n",
       " lowest_optimization_result:       fun: -7.9458233756152845\n",
       " hess_inv: array([[0.08584092]])\n",
       "      jac: array([2.98023224e-07])\n",
       "  message: 'Optimization terminated successfully.'\n",
       "     nfev: 15\n",
       "      nit: 3\n",
       "     njev: 5\n",
       "   status: 0\n",
       "  success: True\n",
       "        x: array([-1.30644])\n",
       "                    message: ['requested number of basinhopping iterations completed successfully']\n",
       "      minimization_failures: 0\n",
       "                       nfev: 18642\n",
       "                        nit: 1000\n",
       "                       njev: 6214\n",
       "                          x: array([-1.30644])"
      ]
     },
     "execution_count": 13,
     "metadata": {},
     "output_type": "execute_result"
    }
   ],
   "source": [
    "optimize.basinhopping(f, 3, niter=1000)"
   ]
  },
  {
   "cell_type": "markdown",
   "metadata": {},
   "source": [
    "### Finding the roots of a scalar function\n",
    "\n",
    "To find a root, i.e. a point where $f(x) = 0$, of the function f above we can use for example `scipy.optimize.fsolve()`:"
   ]
  },
  {
   "cell_type": "code",
   "execution_count": 14,
   "metadata": {},
   "outputs": [
    {
     "data": {
      "text/plain": [
       "array([0.])"
      ]
     },
     "execution_count": 14,
     "metadata": {},
     "output_type": "execute_result"
    }
   ],
   "source": [
    "root = optimize.fsolve(f, 1)  # our initial guess is 1\n",
    "root"
   ]
  },
  {
   "cell_type": "markdown",
   "metadata": {},
   "source": [
    "Note that only one root is found. Inspecting the plot of f reveals that there is a second root around -2.5. We find the exact value of it by adjusting our initial guess:"
   ]
  },
  {
   "cell_type": "code",
   "execution_count": 15,
   "metadata": {},
   "outputs": [
    {
     "data": {
      "text/plain": [
       "array([-2.47948183])"
      ]
     },
     "execution_count": 15,
     "metadata": {},
     "output_type": "execute_result"
    }
   ],
   "source": [
    "root2 = optimize.fsolve(f, -2.5)\n",
    "root2"
   ]
  },
  {
   "cell_type": "markdown",
   "metadata": {},
   "source": [
    "### Curve fitting\n",
    "\n",
    "Suppose we have data sampled from $f$ with some noise:"
   ]
  },
  {
   "cell_type": "code",
   "execution_count": 16,
   "metadata": {},
   "outputs": [],
   "source": [
    "xdata = np.linspace(-10, 10, num=100)\n",
    "ydata = f(xdata) + np.random.normal(0, 2, xdata.shape)"
   ]
  },
  {
   "cell_type": "markdown",
   "metadata": {},
   "source": [
    "Now if we know the functional form of the function from which the samples were drawn ($x^2 + \\sin(x)$ in this case) but not the amplitudes of the terms, we can find those by least squares curve fitting. First we have to define the function to fit:"
   ]
  },
  {
   "cell_type": "code",
   "execution_count": 17,
   "metadata": {},
   "outputs": [],
   "source": [
    "def f2(x, a, b):\n",
    "    return a*x**2 + b*np.sin(x)"
   ]
  },
  {
   "cell_type": "markdown",
   "metadata": {},
   "source": [
    "Then we can use `scipy.optimize.curve_fit()` to find $a$ and $b$:"
   ]
  },
  {
   "cell_type": "code",
   "execution_count": 18,
   "metadata": {},
   "outputs": [
    {
     "data": {
      "text/plain": [
       "array([ 0.99652892, 10.34449375])"
      ]
     },
     "execution_count": 18,
     "metadata": {},
     "output_type": "execute_result"
    }
   ],
   "source": [
    "guess = [2, 2]\n",
    "params, params_covariance = optimize.curve_fit(f2, xdata, ydata, guess)\n",
    "params"
   ]
  },
  {
   "cell_type": "markdown",
   "metadata": {},
   "source": [
    "### Summary in a single plot"
   ]
  },
  {
   "cell_type": "code",
   "execution_count": 19,
   "metadata": {},
   "outputs": [
    {
     "data": {
      "image/png": "[encoded data removed]",
      "text/plain": [
       "<Figure size 432x288 with 1 Axes>"
      ]
     },
     "metadata": {
      "needs_background": "light"
     },
     "output_type": "display_data"
    }
   ],
   "source": [
    "x = np.arange(-10, 10, 0.1)\n",
    "plt.plot(xdata, ydata)\n",
    "# plot the local minima\n",
    "plt.plot(res.x, f(res.x), 'or', label='minimum')\n",
    "plt.plot(res2.x, f(res2.x), 'or')\n",
    "# plot the roots\n",
    "plt.plot(root, f(root), '^g', label='roots')\n",
    "plt.plot(root2, f(root2), '^g')\n",
    "# plot the curved fitted\n",
    "plt.plot(x, f2(x, params[0], params[1]), '--', label='fitted')\n",
    "plt.legend()\n",
    "plt.show()"
   ]
  },
  {
   "cell_type": "markdown",
   "metadata": {},
   "source": [
    "<div class=\"alert alert-success\">\n",
    "\n",
    "<b>EXERCISE - `scipy.optimize`</b>:\n",
    "\n",
    "The previous spectra can be modelled using a simple function `model_bi_functions` which we defined as:\n",
    "\n",
    "<br><br>\n",
    "\n",
    "$$\n",
    "    S(f)=\\left\\{\n",
    "                \\begin{array}{ll}\n",
    "                  a f + b, & 0 < f < \\mu - 3 \\sigma \\\\\n",
    "                  (a (\\mu - 3 \\sigma) + b) + \\exp\\left( - \\frac{(f - \\mu)^{2}}{2 \\sigma^{2}} \\right), & f \\geq \\mu - 3 \\sigma\\\\\n",
    "                \\end{array}\n",
    "              \\right.\n",
    "$$\n",
    "\n",
    "See below a plot which illustrate the profile of this function.\n",
    "\n",
    " <ul>\n",
    "  <li>Using `scipy.optimize.curve_fit`, fit `model_bi_functions` in the first spectra from `spectra_interp`. You also have to use `frequency_interp` as `x` values. Use the initial parameters `[0.0, 0.01, 100, 3300, 300]`</li>\n",
    "  <li>Plot the results.</li>\n",
    "</ul>\n",
    "\n",
    "</div>"
   ]
  },
  {
   "cell_type": "code",
   "execution_count": 20,
   "metadata": {},
   "outputs": [],
   "source": [
    "# import helper regarding normal distribution\n",
    "from scipy.stats import norm\n",
    "\n",
    "def find_nearest_index(array, value):\n",
    "    \"\"\"Find the nearest index of a value in an array.\"\"\"\n",
    "    idx = (np.abs(array - value)).argmin()\n",
    "    return idx\n",
    "\n",
    "def model_bi_functions(freqs, a=1e-5, b=0.01,\n",
    "                      scale=100, mu=3300, sigma=300):\n",
    "    \"\"\"Model to be fitted.\n",
    "    \n",
    "    It corresponds to a line from [0, f0] and a\n",
    "    Normal distribution profile from [f0, end].\n",
    "    \n",
    "    Parameters\n",
    "    ----------\n",
    "    freqs : ndarray, shape (n_freqs,)\n",
    "        Frequencies for which the spectrum will be calculated\n",
    "        \n",
    "    a : float, (default=1e-5)\n",
    "        Slope of the line.\n",
    "        \n",
    "    b : float, (default=0.01)\n",
    "        Values where the line cut the y-axis.\n",
    "        \n",
    "    scale : float, (default=100)\n",
    "        Scaling factor for the amplitude of the Gaussian profile.\n",
    "        \n",
    "    mu : float, (default=3300)\n",
    "        Central value of the Gaussian profile.\n",
    "        \n",
    "    sigma : float, (default=300)\n",
    "        Standard deviation of the Gaussian profile.\n",
    "    \n",
    "    \"\"\"\n",
    "    y = np.zeros(freqs.shape)\n",
    "    # find the index of the inflexion point\n",
    "    f0_idx = find_nearest_index(freqs, mu - 3 * sigma)\n",
    "    # line equation\n",
    "    y[:f0_idx] = a * freqs[:f0_idx] + b\n",
    "    # Gaussian profile\n",
    "    y[f0_idx:] = ((a * freqs[f0_idx] + b) +\n",
    "                  (scale * norm.pdf(freqs[f0_idx:], mu, sigma)))\n",
    "    return y"
   ]
  },
  {
   "cell_type": "code",
   "execution_count": 21,
   "metadata": {},
   "outputs": [
    {
     "ename": "NameError",
     "evalue": "name 'frequency_interp' is not defined",
     "output_type": "error",
     "traceback": [
      "\u001b[0;31m---------------------------------------------------------------------------\u001b[0m",
      "\u001b[0;31mNameError\u001b[0m                                 Traceback (most recent call last)",
      "\u001b[0;32m<ipython-input-21-1c1e13da75fc>\u001b[0m in \u001b[0;36m<module>\u001b[0;34m\u001b[0m\n\u001b[0;32m----> 1\u001b[0;31m \u001b[0my\u001b[0m \u001b[0;34m=\u001b[0m \u001b[0mmodel_bi_functions\u001b[0m\u001b[0;34m(\u001b[0m\u001b[0mfrequency_interp\u001b[0m\u001b[0;34m)\u001b[0m\u001b[0;34m\u001b[0m\u001b[0;34m\u001b[0m\u001b[0m\n\u001b[0m\u001b[1;32m      2\u001b[0m \u001b[0mplt\u001b[0m\u001b[0;34m.\u001b[0m\u001b[0mplot\u001b[0m\u001b[0;34m(\u001b[0m\u001b[0mfrequency_interp\u001b[0m\u001b[0;34m,\u001b[0m \u001b[0my\u001b[0m\u001b[0;34m)\u001b[0m\u001b[0;34m\u001b[0m\u001b[0;34m\u001b[0m\u001b[0m\n\u001b[1;32m      3\u001b[0m \u001b[0mplt\u001b[0m\u001b[0;34m.\u001b[0m\u001b[0mxlabel\u001b[0m\u001b[0;34m(\u001b[0m\u001b[0;34m'Frequency'\u001b[0m\u001b[0;34m)\u001b[0m\u001b[0;34m\u001b[0m\u001b[0;34m\u001b[0m\u001b[0m\n\u001b[1;32m      4\u001b[0m \u001b[0mplt\u001b[0m\u001b[0;34m.\u001b[0m\u001b[0mylabel\u001b[0m\u001b[0;34m(\u001b[0m\u001b[0;34m'Amplitude'\u001b[0m\u001b[0;34m)\u001b[0m\u001b[0;34m\u001b[0m\u001b[0;34m\u001b[0m\u001b[0m\n",
      "\u001b[0;31mNameError\u001b[0m: name 'frequency_interp' is not defined"
     ]
    }
   ],
   "source": [
    "y = model_bi_functions(frequency_interp)\n",
    "plt.plot(frequency_interp, y)\n",
    "plt.xlabel('Frequency')\n",
    "plt.ylabel('Amplitude')"
   ]
  },
  {
   "cell_type": "code",
   "execution_count": null,
   "metadata": {},
   "outputs": [],
   "source": []
  },
  {
   "cell_type": "code",
   "execution_count": null,
   "metadata": {},
   "outputs": [],
   "source": []
  },
  {
   "cell_type": "markdown",
   "metadata": {},
   "source": [
    "## 4. Numerical integration - `scipy.integrate`"
   ]
  },
  {
   "cell_type": "markdown",
   "metadata": {},
   "source": [
    "Given a function object, the most generic integration routine is `scipy.integrate.quad()`."
   ]
  },
  {
   "cell_type": "code",
   "execution_count": null,
   "metadata": {
    "collapsed": true
   },
   "outputs": [],
   "source": [
    "from scipy.integrate import quad\n",
    "res, err = quad(np.sin, 0, np.pi / 2)\n",
    "res"
   ]
  },
  {
   "cell_type": "markdown",
   "metadata": {},
   "source": [
    "If only fixed sample are given, the trapeze method (`scipy.integrate.trapz()`) or Simpson's integration rule `scipy.integrate.simps()`) can be used."
   ]
  },
  {
   "cell_type": "code",
   "execution_count": null,
   "metadata": {
    "collapsed": true
   },
   "outputs": [],
   "source": [
    "x = np.linspace(0, np.pi / 2, num=200)\n",
    "y = np.sin(x)"
   ]
  },
  {
   "cell_type": "code",
   "execution_count": null,
   "metadata": {
    "collapsed": true
   },
   "outputs": [],
   "source": [
    "from scipy.integrate import simps\n",
    "res = simps(y, x)\n",
    "res"
   ]
  },
  {
   "cell_type": "markdown",
   "metadata": {},
   "source": [
    "<div class=\"alert alert-success\">\n",
    "\n",
    "<b>EXERCISE - `scipy.integrate`</b>:\n",
    "\n",
    "We would be interested in the area under the Gaussian profile since it is related to what we want to quantify.\n",
    "\n",
    " <ul>\n",
    "  <li>Using `scipy.integrate.simps`, compute the area under the Gaussian profile between $[\\mu - 3 \\sigma, \\mu + 3 \\sigma]$. Those parameters can be found as the results of the curve fitting previusly done. The indexes corresponding to the interval values can be computed using `find_nearest_index`.</li>\n",
    "  <li>You can do the same using the original data to see the difference od quantification.</li>\n",
    "</ul>\n",
    "\n",
    "</div>"
   ]
  },
  {
   "cell_type": "code",
   "execution_count": null,
   "metadata": {
    "collapsed": true
   },
   "outputs": [],
   "source": []
  },
  {
   "cell_type": "markdown",
   "metadata": {},
   "source": [
    "## 5. Linear algebra - `scipy.linalg`"
   ]
  },
  {
   "cell_type": "markdown",
   "metadata": {},
   "source": [
    "The `scipy.linalg` offers basic operation used in linear algebra such as inverse (`scipy.linalg.inv`), pseudo-inverse (`scipy.linalg.pinv`), determinant (`scipy.linalg.det`) as well as decompostion as standard decompisition as SVD, QR, or Cholesky among others."
   ]
  },
  {
   "cell_type": "markdown",
   "metadata": {},
   "source": [
    "<div class=\"alert alert-warning\">\n",
    "\n",
    "<b>`np.array` vs. `np.matrix`:</b>\n",
    "\n",
    "<br><br>\n",
    "\n",
    "By default the multiplication between two `np.array` (i.e. `*` operator) do not lead to a matrix multiplication. You need to use `np.dot` to perform this operation.\n",
    "\n",
    "<br><br>\n",
    "\n",
    "Another possibility is to convert the `np.array` to `np.matrix` which perform this operation when using the operator `*`. The operations become more readable when there is a lot of algebric operations involved.\n",
    "\n",
    "<br><br>\n",
    "\n",
    "We illustrate this behaviour in the example below.\n",
    "\n",
    "</div>"
   ]
  },
  {
   "cell_type": "markdown",
   "metadata": {},
   "source": [
    "Let's declare two arrays of shape $3 \\times 3$ and $3 \\times 1$, respectively."
   ]
  },
  {
   "cell_type": "code",
   "execution_count": null,
   "metadata": {
    "collapsed": true
   },
   "outputs": [],
   "source": [
    "A = np.array([[ 3,  3, -1],\n",
    "              [ 2, -3,  4],\n",
    "              [-1, .5, -1]])\n",
    "\n",
    "b = np.array([[ 1],\n",
    "              [-2],\n",
    "              [ 0]])"
   ]
  },
  {
   "cell_type": "markdown",
   "metadata": {},
   "source": [
    "Using the `*` operator does not lead to a matrix multiplication since the matrix returned is a $3 \\times 3$ matrix. Instead, it multiply each column of $A$ by the vector $b$."
   ]
  },
  {
   "cell_type": "code",
   "execution_count": null,
   "metadata": {
    "collapsed": true
   },
   "outputs": [],
   "source": [
    "A * b"
   ]
  },
  {
   "cell_type": "markdown",
   "metadata": {},
   "source": [
    "You need to use the function `np.dot` to obtain the matrix multiplication."
   ]
  },
  {
   "cell_type": "code",
   "execution_count": null,
   "metadata": {
    "collapsed": true
   },
   "outputs": [],
   "source": [
    "np.dot(A, b)"
   ]
  },
  {
   "cell_type": "markdown",
   "metadata": {},
   "source": [
    "However, by converting $A$ and $b$ to matrices (i.e., `np.matrix`), it is possible to use the `*` operator directly."
   ]
  },
  {
   "cell_type": "code",
   "execution_count": null,
   "metadata": {
    "collapsed": true
   },
   "outputs": [],
   "source": [
    "A = np.matrix(A)\n",
    "b = np.matrix(b)\n",
    "\n",
    "A * b"
   ]
  },
  {
   "cell_type": "markdown",
   "metadata": {},
   "source": [
    "<div class=\"alert alert-success\">\n",
    "\n",
    "<b>EXERCISE - `scipy.linalg`</b>:\n",
    "\n",
    " <ul>\n",
    "  <li>Solve the following system of linear equations using the normal equation.</li>\n",
    "</ul>\n",
    "<br>\n",
    "\n",
    "$$\n",
    "\\left[\\begin{array}{cc} \n",
    "3x & 3y & -z \\\\\n",
    "2x & -3y & 4z \\\\\n",
    "-x & .5y & -z\n",
    "\\end{array}\\right]\n",
    "\\left[\\begin{array}{cc} \n",
    "x_1 \\\\ \n",
    "x_2 \\\\\n",
    "x_3\n",
    "\\end{array}\\right] = \n",
    "\\left[\\begin{array}{cc} \n",
    "-1 \\\\ \n",
    "-2 \\\\\n",
    "0\n",
    "\\end{array}\\right]\n",
    "$$\n",
    "\n",
    "This problem can be seen as:\n",
    "$$ A x = b $$\n",
    "\n",
    "$x$ can be find such that:\n",
    "\n",
    "$$ x = (A^{T} A)^{-1} A^{T} b $$\n",
    "\n",
    "Find $x$ using the above equation\n",
    "\n",
    "</div>"
   ]
  },
  {
   "cell_type": "code",
   "execution_count": null,
   "metadata": {
    "collapsed": true
   },
   "outputs": [],
   "source": []
  },
  {
   "cell_type": "code",
   "execution_count": null,
   "metadata": {
    "collapsed": true
   },
   "outputs": [],
   "source": []
  },
  {
   "cell_type": "markdown",
   "metadata": {},
   "source": [
    "<div class=\"alert alert-success\">\n",
    "\n",
    "<b>EXERCISE</b>:\n",
    "\n",
    " <ul>\n",
    "  <li>Solve the following system of linear equations using SVD.</li>\n",
    "</ul>\n",
    "<br>\n",
    "\n",
    "The above problem can also be solved using an SVD decomposition such that:\n",
    "\n",
    "$$ x = V S^{-1} (U^{T} b) $$\n",
    "\n",
    "where $U$, $S$, and $V^{T}$ can be found with `scipy.linalg.svd` such that:\n",
    "`U, S, Vh = svd(A)`\n",
    "\n",
    "</div>"
   ]
  },
  {
   "cell_type": "code",
   "execution_count": null,
   "metadata": {
    "collapsed": true
   },
   "outputs": [],
   "source": []
  },
  {
   "cell_type": "markdown",
   "metadata": {},
   "source": [
    "## 6. Statistics - `scipy.stats` and `statsmodel`"
   ]
  },
  {
   "cell_type": "markdown",
   "metadata": {},
   "source": [
    "### `scipy.stats`"
   ]
  },
  {
   "cell_type": "markdown",
   "metadata": {},
   "source": [
    "`scipy.stats` contains mainly helper of most common [continuous](https://docs.scipy.org/doc/scipy/reference/stats.html#continuous-distributions) and [discrete](https://docs.scipy.org/doc/scipy/reference/stats.html#discrete-distributions) distribution.\n",
    "\n",
    "In addition, this module contain statistical functions to perform statistical tests for instance."
   ]
  },
  {
   "cell_type": "code",
   "execution_count": null,
   "metadata": {
    "collapsed": true
   },
   "outputs": [],
   "source": [
    "import pandas as pd\n",
    "data = pd.read_csv('data/brain_size.csv', sep=';', na_values=\".\")\n",
    "data.head()"
   ]
  },
  {
   "cell_type": "markdown",
   "metadata": {},
   "source": [
    "#### 1-sample t-test\n",
    "\n",
    "`scipy.stats.ttest_1samp()` tests if the population mean of data is likely to be equal to a given value. Let see if the VIQ of our population is equal to 0."
   ]
  },
  {
   "cell_type": "code",
   "execution_count": null,
   "metadata": {
    "collapsed": true
   },
   "outputs": [],
   "source": [
    "from scipy.stats import ttest_1samp\n",
    "\n",
    "ttest_1samp(data['VIQ'], 0)"
   ]
  },
  {
   "cell_type": "markdown",
   "metadata": {},
   "source": [
    "With a p-value of $10^{-28}$ we can claim that the population mean for the IQ (VIQ measure) is not 0."
   ]
  },
  {
   "cell_type": "markdown",
   "metadata": {},
   "source": [
    "#### 2-sample t-test"
   ]
  },
  {
   "cell_type": "markdown",
   "metadata": {},
   "source": [
    "`scipy.stats.ttest_ind()` can compare two populations and check if the difference is significant or not. We can study if there is a difference of the VIQ between Male and Female."
   ]
  },
  {
   "cell_type": "code",
   "execution_count": null,
   "metadata": {
    "collapsed": true
   },
   "outputs": [],
   "source": [
    "groupby_gender = data.groupby('Gender')\n",
    "for gender, value in groupby_gender['VIQ']:\n",
    "    print((gender, value.mean()))"
   ]
  },
  {
   "cell_type": "markdown",
   "metadata": {},
   "source": [
    "To see if this difference is significant, we can use `scipy.stats.ttest_ind()`."
   ]
  },
  {
   "cell_type": "code",
   "execution_count": null,
   "metadata": {
    "collapsed": true
   },
   "outputs": [],
   "source": [
    "from scipy.stats import ttest_ind\n",
    "female_viq = data[data['Gender'] == 'Female']['VIQ']\n",
    "male_viq = data[data['Gender'] == 'Male']['VIQ']\n",
    "ttest_ind(female_viq, male_viq)"
   ]
  },
  {
   "cell_type": "markdown",
   "metadata": {},
   "source": [
    "<div class=\"alert alert-success\">\n",
    "\n",
    "<b>EXERCISE</b>:\n",
    "\n",
    " <ul>\n",
    "  <li>Test the difference between weights in males and females. You can fill the missing data using `pandas.fillna()` and using the mean weight of the population.</li>\n",
    "  <li>Use non parametric statistics to test the difference between VIQ in males and females (refer to `scipy.stats.mannwhitneyu`).</li>\n",
    "</ul>\n",
    "<br>\n",
    "\n",
    "</div>"
   ]
  },
  {
   "cell_type": "code",
   "execution_count": null,
   "metadata": {
    "collapsed": true
   },
   "outputs": [],
   "source": []
  },
  {
   "cell_type": "code",
   "execution_count": null,
   "metadata": {
    "collapsed": true
   },
   "outputs": [],
   "source": []
  },
  {
   "cell_type": "code",
   "execution_count": null,
   "metadata": {
    "collapsed": true
   },
   "outputs": [],
   "source": []
  },
  {
   "cell_type": "markdown",
   "metadata": {},
   "source": [
    "### `statsmodels`"
   ]
  },
  {
   "cell_type": "markdown",
   "metadata": {},
   "source": [
    "Given two set of observations, x and y, we want to test the hypothesis that y is a linear function of x. In other terms:\n",
    "$$\n",
    "    y = x \\times coef + intercept + e\n",
    "$$\n",
    "where e is observation noise. We will use the statsmodels module to:\n",
    "\n",
    "- Fit a linear model. We will use the simplest strategy, ordinary least squares (OLS).\n",
    "- Test that coef is non zero."
   ]
  },
  {
   "cell_type": "code",
   "execution_count": null,
   "metadata": {
    "collapsed": true
   },
   "outputs": [],
   "source": [
    "x = np.linspace(-5, 5, 20)\n",
    "np.random.seed(1)\n",
    "# normal distributed noise\n",
    "y = -5 + 3 * x + 4 * np.random.normal(size=x.shape)\n",
    "# Create a data frame containing all the relevant variables\n",
    "data = pd.DataFrame({'x': x, 'y': y})"
   ]
  },
  {
   "cell_type": "markdown",
   "metadata": {},
   "source": [
    "Then we specify an OLS model and fit it:"
   ]
  },
  {
   "cell_type": "code",
   "execution_count": null,
   "metadata": {
    "collapsed": true
   },
   "outputs": [],
   "source": [
    "from statsmodels.formula.api import ols\n",
    "model = ols(\"y ~ x + 1\", data).fit()"
   ]
  },
  {
   "cell_type": "markdown",
   "metadata": {},
   "source": [
    "We can inspect the various statistics derived from the fit:"
   ]
  },
  {
   "cell_type": "code",
   "execution_count": null,
   "metadata": {
    "collapsed": true
   },
   "outputs": [],
   "source": [
    "print(model.summary())"
   ]
  },
  {
   "cell_type": "markdown",
   "metadata": {},
   "source": [
    "**Intercept:** We can remove the intercept using - 1 in the formula, or force the use of an intercept using + 1."
   ]
  },
  {
   "cell_type": "markdown",
   "metadata": {},
   "source": [
    "Let's see another example: is VIQ can be predicted using Gender."
   ]
  },
  {
   "cell_type": "code",
   "execution_count": null,
   "metadata": {
    "collapsed": true
   },
   "outputs": [],
   "source": [
    "from statsmodels.formula.api import ols\n",
    "data = pd.read_csv('data/brain_size.csv', sep=';', na_values=\".\")\n",
    "model = ols(\"VIQ ~ Gender + 1\", data).fit()\n",
    "print(model.summary())"
   ]
  },
  {
   "cell_type": "markdown",
   "metadata": {},
   "source": [
    "<div class=\"alert alert-success\">\n",
    "\n",
    "<b>EXERCISE</b>:\n",
    "\n",
    " <ul>\n",
    "  <li>Run an OLS to check if Weight can be predicted using Gender and Height.</li>\n",
    "</ul>\n",
    "<br>\n",
    "\n",
    "</div>"
   ]
  },
  {
   "cell_type": "code",
   "execution_count": null,
   "metadata": {
    "collapsed": true
   },
   "outputs": [],
   "source": []
  }
 ],
 "metadata": {
  "kernelspec": {
   "display_name": "Python 3",
   "language": "python",
   "name": "python3"
  },
  "language_info": {
   "codemirror_mode": {
    "name": "ipython",
    "version": 3
   },
   "file_extension": ".py",
   "mimetype": "text/x-python",
   "name": "python",
   "nbconvert_exporter": "python",
   "pygments_lexer": "ipython3",
   "version": "3.6.7"
  }
 },
 "nbformat": 4,
 "nbformat_minor": 2
}
