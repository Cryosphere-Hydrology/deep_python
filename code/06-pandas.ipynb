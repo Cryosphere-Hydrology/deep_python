{
 "cells": [
  {
   "cell_type": "markdown",
   "metadata": {},
   "source": [
    "# What is Pandas? Getting started with pandas\n",
    "\n",
    "To analyze data, we like to use two-dimensional tables – like in SQL and in Excel. Originally, Python didn’t have this feature.  But that’s why Pandas is so important! I like to say, Pandas is the “SQL of Python.”  Pandas is the library that will help us to handle two-dimensional data tables in Python. In many senses it’s really similar to SQL, though."
   ]
  },
  {
   "cell_type": "markdown",
   "metadata": {},
   "source": [
    "## Why should I use Pandas to work with data? \n",
    "\n",
    "Because:\n",
    "- handle headings better than with Numpy \n",
    "- Pandas Series and DataFrame are also Numpy arrays\n",
    "- provide some clarity in your data\n",
    "- especially important if you work with time series as you can downscale and upscale your data based on the time series"
   ]
  },
  {
   "cell_type": "markdown",
   "metadata": {},
   "source": [
    "# Essential functions\n",
    "\n",
    "Top 20 most popular pandas function on GitHub (in 2016)\n",
    "https://galeascience.wordpress.com/2016/08/10/top-10-pandas-numpy-and-scipy-functions-on-github/"
   ]
  },
  {
   "cell_type": "code",
   "execution_count": 23,
   "metadata": {},
   "outputs": [],
   "source": [
    "import pandas as pd\n",
    "import numpy as np"
   ]
  },
  {
   "cell_type": "markdown",
   "metadata": {},
   "source": [
    "# How can I import data with Pandas? \n",
    "\n",
    "- Array can be created as in Numpy (*Series*)\n",
    "- Data can be imported from text files (.csv, .txt and other type of text formats) or directly from excel files (*DataFrames*)"
   ]
  },
  {
   "cell_type": "markdown",
   "metadata": {},
   "source": [
    "## Series\n",
    "One-dimensional array-like object (very similar to Numpy 1-D arrays). ```pd.Series``` is characterized by an index and a single column."
   ]
  },
  {
   "cell_type": "code",
   "execution_count": 24,
   "metadata": {},
   "outputs": [
    {
     "data": {
      "text/plain": [
       "0    4\n",
       "1    6\n",
       "2    6\n",
       "3    9\n",
       "4    8\n",
       "5    7\n",
       "6    8\n",
       "dtype: int64"
      ]
     },
     "execution_count": 24,
     "metadata": {},
     "output_type": "execute_result"
    }
   ],
   "source": [
    "temperature_Oslo = pd.Series([4, 6, 6, 9, 8, 7, 8]) # temperature in the middle of the day at Blindern for the next 7 days\n",
    "\n",
    "temperature_Oslo"
   ]
  },
  {
   "cell_type": "markdown",
   "metadata": {},
   "source": [
    "By default, the index starts at 0 and stop at the last value in your ```pd.Series``` dataset"
   ]
  },
  {
   "cell_type": "code",
   "execution_count": 25,
   "metadata": {},
   "outputs": [
    {
     "data": {
      "text/plain": [
       "RangeIndex(start=0, stop=7, step=1)"
      ]
     },
     "execution_count": 25,
     "metadata": {},
     "output_type": "execute_result"
    }
   ],
   "source": [
    "temperature_Oslo.index # same as range(7) or np.arange(7)"
   ]
  },
  {
   "cell_type": "markdown",
   "metadata": {},
   "source": [
    "The index can be modified by accessing the index key ```pd.Series.index```"
   ]
  },
  {
   "cell_type": "code",
   "execution_count": 26,
   "metadata": {},
   "outputs": [
    {
     "data": {
      "text/plain": [
       "Index(['Monday', 'Tuesday', 'Wednesday', 'Thursday', 'Friday', 'Saturday',\n",
       "       'Sunday'],\n",
       "      dtype='object')"
      ]
     },
     "execution_count": 26,
     "metadata": {},
     "output_type": "execute_result"
    }
   ],
   "source": [
    "# indexes can be later modified by doing\n",
    "temperature_Oslo.index = ['Monday', 'Tuesday', 'Wednesday', 'Thursday', 'Friday', 'Saturday', 'Sunday']\n",
    "temperature_Oslo.index"
   ]
  },
  {
   "cell_type": "markdown",
   "metadata": {},
   "source": [
    "The easiest way to create a ```pd.Series``` is to define a dictionnary and pass it to the ```pd.Series```"
   ]
  },
  {
   "cell_type": "code",
   "execution_count": 27,
   "metadata": {},
   "outputs": [
    {
     "data": {
      "text/plain": [
       "Monday       4\n",
       "Tuesday      6\n",
       "Wednesday    6\n",
       "Thursday     9\n",
       "Friday       8\n",
       "Saturday     7\n",
       "Sunday       8\n",
       "dtype: int64"
      ]
     },
     "execution_count": 27,
     "metadata": {},
     "output_type": "execute_result"
    }
   ],
   "source": [
    "ndata = {'Monday' : 4 , 'Tuesday' : 6 , 'Wednesday' : 6 , 'Thursday' : 9 , 'Friday' : 8 , 'Saturday' : 7, 'Sunday' : 8}\n",
    "\n",
    "\n",
    "# feed pd.Series the previously created dictionary\n",
    "temperature_Oslo = pd.Series(ndata)\n",
    "\n",
    "# print the data on the screen\n",
    "temperature_Oslo"
   ]
  },
  {
   "cell_type": "markdown",
   "metadata": {},
   "source": [
    "Values within the ```pd.Series``` can be accessed either by ```pd.Series[variable]``` or ```pd.Series.variable```"
   ]
  },
  {
   "cell_type": "code",
   "execution_count": 14,
   "metadata": {},
   "outputs": [
    {
     "name": "stdout",
     "output_type": "stream",
     "text": [
      "-2\n",
      "-2\n"
     ]
    }
   ],
   "source": [
    "# change in temperature between Monday and Tuesday\n",
    "print (temperature_Oslo['Monday'] - temperature_Oslo['Tuesday'])\n",
    "\n",
    "# similar to\n",
    "print (temperature_Oslo.Monday - temperature_Oslo.Tuesday)"
   ]
  },
  {
   "cell_type": "markdown",
   "metadata": {},
   "source": [
    "## DataFrame"
   ]
  },
  {
   "cell_type": "markdown",
   "metadata": {},
   "source": [
    "DataFrame is the most popular function used in Pandas. Help to deal with large rectangular datasets. There are many ways to construct a DataFrame, and can mostly be separated in two groups:\n",
    "- Manually, by specifying a dictionary containing a string (the header) and a list of numbers or strings\n",
    "- Importing a text or excel file, which contains a x number of data "
   ]
  },
  {
   "cell_type": "markdown",
   "metadata": {},
   "source": [
    "## Creating a DataFrame manually\n",
    "\n",
    "We can again make us of dictionnary variables but this time we will have a dataset with a multiple number of columns"
   ]
  },
  {
   "cell_type": "code",
   "execution_count": 28,
   "metadata": {},
   "outputs": [
    {
     "data": {
      "text/html": [
       "<div>\n",
       "<style scoped>\n",
       "    .dataframe tbody tr th:only-of-type {\n",
       "        vertical-align: middle;\n",
       "    }\n",
       "\n",
       "    .dataframe tbody tr th {\n",
       "        vertical-align: top;\n",
       "    }\n",
       "\n",
       "    .dataframe thead th {\n",
       "        text-align: right;\n",
       "    }\n",
       "</style>\n",
       "<table border=\"1\" class=\"dataframe\">\n",
       "  <thead>\n",
       "    <tr style=\"text-align: right;\">\n",
       "      <th></th>\n",
       "      <th>Day of the week</th>\n",
       "      <th>Temperature in the middle of the day</th>\n",
       "      <th>Wind (m/s)</th>\n",
       "      <th>Weather conditions</th>\n",
       "    </tr>\n",
       "  </thead>\n",
       "  <tbody>\n",
       "    <tr>\n",
       "      <th>0</th>\n",
       "      <td>Monday</td>\n",
       "      <td>4</td>\n",
       "      <td>1</td>\n",
       "      <td>Cloud &amp; Sun</td>\n",
       "    </tr>\n",
       "    <tr>\n",
       "      <th>1</th>\n",
       "      <td>Tuesday</td>\n",
       "      <td>6</td>\n",
       "      <td>6</td>\n",
       "      <td>Cloud</td>\n",
       "    </tr>\n",
       "    <tr>\n",
       "      <th>2</th>\n",
       "      <td>Wednesday</td>\n",
       "      <td>6</td>\n",
       "      <td>2</td>\n",
       "      <td>Cloud</td>\n",
       "    </tr>\n",
       "    <tr>\n",
       "      <th>3</th>\n",
       "      <td>Thursday</td>\n",
       "      <td>9</td>\n",
       "      <td>2</td>\n",
       "      <td>Cloud &amp; Sun</td>\n",
       "    </tr>\n",
       "    <tr>\n",
       "      <th>4</th>\n",
       "      <td>Friday</td>\n",
       "      <td>8</td>\n",
       "      <td>4</td>\n",
       "      <td>Cloud &amp; Sun</td>\n",
       "    </tr>\n",
       "    <tr>\n",
       "      <th>5</th>\n",
       "      <td>Saturday</td>\n",
       "      <td>7</td>\n",
       "      <td>3</td>\n",
       "      <td>Sun</td>\n",
       "    </tr>\n",
       "    <tr>\n",
       "      <th>6</th>\n",
       "      <td>Sunday</td>\n",
       "      <td>8</td>\n",
       "      <td>3</td>\n",
       "      <td>Cloud</td>\n",
       "    </tr>\n",
       "  </tbody>\n",
       "</table>\n",
       "</div>"
      ],
      "text/plain": [
       "  Day of the week  Temperature in the middle of the day  Wind (m/s)  \\\n",
       "0          Monday                                     4           1   \n",
       "1         Tuesday                                     6           6   \n",
       "2       Wednesday                                     6           2   \n",
       "3        Thursday                                     9           2   \n",
       "4          Friday                                     8           4   \n",
       "5        Saturday                                     7           3   \n",
       "6          Sunday                                     8           3   \n",
       "\n",
       "  Weather conditions  \n",
       "0        Cloud & Sun  \n",
       "1              Cloud  \n",
       "2              Cloud  \n",
       "3        Cloud & Sun  \n",
       "4        Cloud & Sun  \n",
       "5                Sun  \n",
       "6              Cloud  "
      ]
     },
     "execution_count": 28,
     "metadata": {},
     "output_type": "execute_result"
    }
   ],
   "source": [
    "data = {'Day of the week' : ['Monday', 'Tuesday', 'Wednesday', 'Thursday', 'Friday', 'Saturday', 'Sunday'],\n",
    "        'Temperature in the middle of the day' : [4, 6, 6, 9, 8, 7, 8],\n",
    "        'Wind (m/s)' : [1, 6, 2, 2, 4, 3, 3],\n",
    "        'Weather conditions' : ['Cloud & Sun', 'Cloud', 'Cloud', 'Cloud & Sun', 'Cloud & Sun', 'Sun', 'Cloud']}\n",
    "\n",
    "frame = pd.DataFrame(data)\n",
    "\n",
    "frame"
   ]
  },
  {
   "cell_type": "markdown",
   "metadata": {},
   "source": [
    "## Interesting functionalities and how can I access specific data within my data set?\n"
   ]
  },
  {
   "cell_type": "code",
   "execution_count": 172,
   "metadata": {},
   "outputs": [
    {
     "data": {
      "text/html": [
       "<div>\n",
       "<style scoped>\n",
       "    .dataframe tbody tr th:only-of-type {\n",
       "        vertical-align: middle;\n",
       "    }\n",
       "\n",
       "    .dataframe tbody tr th {\n",
       "        vertical-align: top;\n",
       "    }\n",
       "\n",
       "    .dataframe thead th {\n",
       "        text-align: right;\n",
       "    }\n",
       "</style>\n",
       "<table border=\"1\" class=\"dataframe\">\n",
       "  <thead>\n",
       "    <tr style=\"text-align: right;\">\n",
       "      <th></th>\n",
       "      <th>depth (m)</th>\n",
       "      <th>Age_04032019_0,1mm_0,01yr</th>\n",
       "      <th>Age. Cal. CE</th>\n",
       "      <th>Al</th>\n",
       "      <th>Si</th>\n",
       "      <th>P</th>\n",
       "      <th>S</th>\n",
       "      <th>Cl</th>\n",
       "      <th>Ar</th>\n",
       "      <th>K</th>\n",
       "      <th>...</th>\n",
       "      <th>Si/Ti</th>\n",
       "      <th>P/Ti</th>\n",
       "      <th>Fe/Mn</th>\n",
       "      <th>Fe/Ti</th>\n",
       "      <th>Pb/Ti</th>\n",
       "      <th>S/OM</th>\n",
       "      <th>S/Ti</th>\n",
       "      <th>Hg/Mn</th>\n",
       "      <th>Hg/Ti.1</th>\n",
       "      <th>Hg/MO</th>\n",
       "    </tr>\n",
       "  </thead>\n",
       "  <tbody>\n",
       "    <tr>\n",
       "      <th>0</th>\n",
       "      <td>0.0000</td>\n",
       "      <td>-68.00</td>\n",
       "      <td>2018.00</td>\n",
       "      <td>25</td>\n",
       "      <td>11</td>\n",
       "      <td>12</td>\n",
       "      <td>82</td>\n",
       "      <td>29</td>\n",
       "      <td>136</td>\n",
       "      <td>6</td>\n",
       "      <td>...</td>\n",
       "      <td>0.137500</td>\n",
       "      <td>0.150000</td>\n",
       "      <td>80.225806</td>\n",
       "      <td>62.175000</td>\n",
       "      <td>0.0</td>\n",
       "      <td>11.958182</td>\n",
       "      <td>1.025000</td>\n",
       "      <td>0.000000</td>\n",
       "      <td>0.000000</td>\n",
       "      <td>0.000000</td>\n",
       "    </tr>\n",
       "    <tr>\n",
       "      <th>1</th>\n",
       "      <td>0.0002</td>\n",
       "      <td>-67.97</td>\n",
       "      <td>2017.97</td>\n",
       "      <td>22</td>\n",
       "      <td>0</td>\n",
       "      <td>18</td>\n",
       "      <td>76</td>\n",
       "      <td>23</td>\n",
       "      <td>167</td>\n",
       "      <td>19</td>\n",
       "      <td>...</td>\n",
       "      <td>0.000000</td>\n",
       "      <td>0.500000</td>\n",
       "      <td>98.203704</td>\n",
       "      <td>147.305556</td>\n",
       "      <td>0.0</td>\n",
       "      <td>10.919643</td>\n",
       "      <td>2.111111</td>\n",
       "      <td>3.092593</td>\n",
       "      <td>4.638889</td>\n",
       "      <td>23.994480</td>\n",
       "    </tr>\n",
       "    <tr>\n",
       "      <th>2</th>\n",
       "      <td>0.0004</td>\n",
       "      <td>-67.81</td>\n",
       "      <td>2017.81</td>\n",
       "      <td>53</td>\n",
       "      <td>6</td>\n",
       "      <td>0</td>\n",
       "      <td>37</td>\n",
       "      <td>9</td>\n",
       "      <td>141</td>\n",
       "      <td>19</td>\n",
       "      <td>...</td>\n",
       "      <td>0.272727</td>\n",
       "      <td>0.000000</td>\n",
       "      <td>92.290323</td>\n",
       "      <td>260.090909</td>\n",
       "      <td>0.0</td>\n",
       "      <td>5.525249</td>\n",
       "      <td>1.681818</td>\n",
       "      <td>0.274194</td>\n",
       "      <td>0.772727</td>\n",
       "      <td>2.538628</td>\n",
       "    </tr>\n",
       "    <tr>\n",
       "      <th>3</th>\n",
       "      <td>0.0006</td>\n",
       "      <td>-67.65</td>\n",
       "      <td>2017.65</td>\n",
       "      <td>18</td>\n",
       "      <td>6</td>\n",
       "      <td>17</td>\n",
       "      <td>64</td>\n",
       "      <td>8</td>\n",
       "      <td>167</td>\n",
       "      <td>23</td>\n",
       "      <td>...</td>\n",
       "      <td>0.157895</td>\n",
       "      <td>0.447368</td>\n",
       "      <td>138.069767</td>\n",
       "      <td>156.236842</td>\n",
       "      <td>0.0</td>\n",
       "      <td>9.239006</td>\n",
       "      <td>1.684211</td>\n",
       "      <td>0.000000</td>\n",
       "      <td>0.000000</td>\n",
       "      <td>0.000000</td>\n",
       "    </tr>\n",
       "    <tr>\n",
       "      <th>4</th>\n",
       "      <td>0.0008</td>\n",
       "      <td>-67.57</td>\n",
       "      <td>2017.57</td>\n",
       "      <td>36</td>\n",
       "      <td>32</td>\n",
       "      <td>22</td>\n",
       "      <td>74</td>\n",
       "      <td>13</td>\n",
       "      <td>129</td>\n",
       "      <td>23</td>\n",
       "      <td>...</td>\n",
       "      <td>0.323232</td>\n",
       "      <td>0.222222</td>\n",
       "      <td>75.576471</td>\n",
       "      <td>64.888889</td>\n",
       "      <td>0.0</td>\n",
       "      <td>10.632997</td>\n",
       "      <td>0.747475</td>\n",
       "      <td>1.000000</td>\n",
       "      <td>0.858586</td>\n",
       "      <td>12.213577</td>\n",
       "    </tr>\n",
       "  </tbody>\n",
       "</table>\n",
       "<p>5 rows × 45 columns</p>\n",
       "</div>"
      ],
      "text/plain": [
       "   depth (m)  Age_04032019_0,1mm_0,01yr  Age. Cal. CE  Al  Si   P   S  Cl  \\\n",
       "0     0.0000                     -68.00       2018.00  25  11  12  82  29   \n",
       "1     0.0002                     -67.97       2017.97  22   0  18  76  23   \n",
       "2     0.0004                     -67.81       2017.81  53   6   0  37   9   \n",
       "3     0.0006                     -67.65       2017.65  18   6  17  64   8   \n",
       "4     0.0008                     -67.57       2017.57  36  32  22  74  13   \n",
       "\n",
       "    Ar   K  ...     Si/Ti      P/Ti       Fe/Mn       Fe/Ti  Pb/Ti       S/OM  \\\n",
       "0  136   6  ...  0.137500  0.150000   80.225806   62.175000    0.0  11.958182   \n",
       "1  167  19  ...  0.000000  0.500000   98.203704  147.305556    0.0  10.919643   \n",
       "2  141  19  ...  0.272727  0.000000   92.290323  260.090909    0.0   5.525249   \n",
       "3  167  23  ...  0.157895  0.447368  138.069767  156.236842    0.0   9.239006   \n",
       "4  129  23  ...  0.323232  0.222222   75.576471   64.888889    0.0  10.632997   \n",
       "\n",
       "       S/Ti     Hg/Mn   Hg/Ti.1      Hg/MO  \n",
       "0  1.025000  0.000000  0.000000   0.000000  \n",
       "1  2.111111  3.092593  4.638889  23.994480  \n",
       "2  1.681818  0.274194  0.772727   2.538628  \n",
       "3  1.684211  0.000000  0.000000   0.000000  \n",
       "4  0.747475  1.000000  0.858586  12.213577  \n",
       "\n",
       "[5 rows x 45 columns]"
      ]
     },
     "execution_count": 172,
     "metadata": {},
     "output_type": "execute_result"
    }
   ],
   "source": [
    "frame.head() # print the first five rows"
   ]
  },
  {
   "cell_type": "code",
   "execution_count": 25,
   "metadata": {},
   "outputs": [
    {
     "name": "stdout",
     "output_type": "stream",
     "text": [
      "Index(['Day of the week', 'Temperature in the middle of the day', 'Wind (m/s)',\n",
      "       'Weather conditions'],\n",
      "      dtype='object')\n"
     ]
    }
   ],
   "source": [
    "print (frame.columns) # print name of the columns"
   ]
  },
  {
   "cell_type": "markdown",
   "metadata": {},
   "source": [
    "### Apply numpy functions to pandas arrays"
   ]
  },
  {
   "cell_type": "code",
   "execution_count": 34,
   "metadata": {},
   "outputs": [
    {
     "data": {
      "text/plain": [
       "6.857142857142857"
      ]
     },
     "execution_count": 34,
     "metadata": {},
     "output_type": "execute_result"
    }
   ],
   "source": [
    "np.mean(frame['Temperature in the middle of the day'])"
   ]
  },
  {
   "cell_type": "markdown",
   "metadata": {},
   "source": [
    "### Switch columns in the DataFrame"
   ]
  },
  {
   "cell_type": "code",
   "execution_count": 36,
   "metadata": {},
   "outputs": [
    {
     "data": {
      "text/html": [
       "<div>\n",
       "<style scoped>\n",
       "    .dataframe tbody tr th:only-of-type {\n",
       "        vertical-align: middle;\n",
       "    }\n",
       "\n",
       "    .dataframe tbody tr th {\n",
       "        vertical-align: top;\n",
       "    }\n",
       "\n",
       "    .dataframe thead th {\n",
       "        text-align: right;\n",
       "    }\n",
       "</style>\n",
       "<table border=\"1\" class=\"dataframe\">\n",
       "  <thead>\n",
       "    <tr style=\"text-align: right;\">\n",
       "      <th></th>\n",
       "      <th>Day of the week</th>\n",
       "      <th>Weather conditions</th>\n",
       "      <th>Temperature in the middle of the day</th>\n",
       "      <th>Wind (m/s)</th>\n",
       "    </tr>\n",
       "  </thead>\n",
       "  <tbody>\n",
       "    <tr>\n",
       "      <th>0</th>\n",
       "      <td>Monday</td>\n",
       "      <td>Cloud &amp; Sun</td>\n",
       "      <td>4</td>\n",
       "      <td>1</td>\n",
       "    </tr>\n",
       "    <tr>\n",
       "      <th>1</th>\n",
       "      <td>Tuesday</td>\n",
       "      <td>Cloud</td>\n",
       "      <td>6</td>\n",
       "      <td>6</td>\n",
       "    </tr>\n",
       "    <tr>\n",
       "      <th>2</th>\n",
       "      <td>Wednesday</td>\n",
       "      <td>Cloud</td>\n",
       "      <td>6</td>\n",
       "      <td>2</td>\n",
       "    </tr>\n",
       "    <tr>\n",
       "      <th>3</th>\n",
       "      <td>Thursday</td>\n",
       "      <td>Cloud &amp; Sun</td>\n",
       "      <td>9</td>\n",
       "      <td>2</td>\n",
       "    </tr>\n",
       "    <tr>\n",
       "      <th>4</th>\n",
       "      <td>Friday</td>\n",
       "      <td>Cloud &amp; Sun</td>\n",
       "      <td>8</td>\n",
       "      <td>4</td>\n",
       "    </tr>\n",
       "    <tr>\n",
       "      <th>5</th>\n",
       "      <td>Saturday</td>\n",
       "      <td>Sun</td>\n",
       "      <td>7</td>\n",
       "      <td>3</td>\n",
       "    </tr>\n",
       "    <tr>\n",
       "      <th>6</th>\n",
       "      <td>Sunday</td>\n",
       "      <td>Cloud</td>\n",
       "      <td>8</td>\n",
       "      <td>3</td>\n",
       "    </tr>\n",
       "  </tbody>\n",
       "</table>\n",
       "</div>"
      ],
      "text/plain": [
       "  Day of the week Weather conditions  Temperature in the middle of the day  \\\n",
       "0          Monday        Cloud & Sun                                     4   \n",
       "1         Tuesday              Cloud                                     6   \n",
       "2       Wednesday              Cloud                                     6   \n",
       "3        Thursday        Cloud & Sun                                     9   \n",
       "4          Friday        Cloud & Sun                                     8   \n",
       "5        Saturday                Sun                                     7   \n",
       "6          Sunday              Cloud                                     8   \n",
       "\n",
       "   Wind (m/s)  \n",
       "0           1  \n",
       "1           6  \n",
       "2           2  \n",
       "3           2  \n",
       "4           4  \n",
       "5           3  \n",
       "6           3  "
      ]
     },
     "execution_count": 36,
     "metadata": {},
     "output_type": "execute_result"
    }
   ],
   "source": [
    "pd.DataFrame(data, columns=['Day of the week', 'Weather conditions', 'Temperature in the middle of the day', 'Wind (m/s)'])"
   ]
  },
  {
   "cell_type": "markdown",
   "metadata": {},
   "source": [
    "### Locate row based on your index"
   ]
  },
  {
   "cell_type": "code",
   "execution_count": 43,
   "metadata": {},
   "outputs": [
    {
     "name": "stdout",
     "output_type": "stream",
     "text": [
      "Day of the week                              Monday\n",
      "Temperature in the middle of the day              4\n",
      "Wind (m/s)                                        1\n",
      "Weather conditions                      Cloud & Sun\n",
      "Name: 0, dtype: object\n",
      "Day of the week                         Sunday\n",
      "Temperature in the middle of the day         8\n",
      "Wind (m/s)                                   3\n",
      "Weather conditions                       Cloud\n",
      "Name: 6, dtype: object\n"
     ]
    }
   ],
   "source": [
    "print (frame.loc[0])\n",
    "\n",
    "print (frame.loc[6])"
   ]
  },
  {
   "cell_type": "markdown",
   "metadata": {},
   "source": [
    "### Assign values in the DataFrame"
   ]
  },
  {
   "cell_type": "code",
   "execution_count": 62,
   "metadata": {},
   "outputs": [
    {
     "data": {
      "text/html": [
       "<div>\n",
       "<style scoped>\n",
       "    .dataframe tbody tr th:only-of-type {\n",
       "        vertical-align: middle;\n",
       "    }\n",
       "\n",
       "    .dataframe tbody tr th {\n",
       "        vertical-align: top;\n",
       "    }\n",
       "\n",
       "    .dataframe thead th {\n",
       "        text-align: right;\n",
       "    }\n",
       "</style>\n",
       "<table border=\"1\" class=\"dataframe\">\n",
       "  <thead>\n",
       "    <tr style=\"text-align: right;\">\n",
       "      <th></th>\n",
       "      <th>Day of the week</th>\n",
       "      <th>Weather conditions</th>\n",
       "      <th>Temperature in the middle of the day</th>\n",
       "      <th>Wind (m/s)</th>\n",
       "      <th>Precipitation (mm)</th>\n",
       "    </tr>\n",
       "  </thead>\n",
       "  <tbody>\n",
       "    <tr>\n",
       "      <th>0</th>\n",
       "      <td>Monday</td>\n",
       "      <td>Cloud &amp; Sun</td>\n",
       "      <td>4</td>\n",
       "      <td>1</td>\n",
       "      <td>NaN</td>\n",
       "    </tr>\n",
       "    <tr>\n",
       "      <th>1</th>\n",
       "      <td>Tuesday</td>\n",
       "      <td>Cloud</td>\n",
       "      <td>6</td>\n",
       "      <td>6</td>\n",
       "      <td>NaN</td>\n",
       "    </tr>\n",
       "    <tr>\n",
       "      <th>2</th>\n",
       "      <td>Wednesday</td>\n",
       "      <td>Cloud</td>\n",
       "      <td>6</td>\n",
       "      <td>2</td>\n",
       "      <td>NaN</td>\n",
       "    </tr>\n",
       "    <tr>\n",
       "      <th>3</th>\n",
       "      <td>Thursday</td>\n",
       "      <td>Cloud &amp; Sun</td>\n",
       "      <td>9</td>\n",
       "      <td>2</td>\n",
       "      <td>NaN</td>\n",
       "    </tr>\n",
       "    <tr>\n",
       "      <th>4</th>\n",
       "      <td>Friday</td>\n",
       "      <td>Cloud &amp; Sun</td>\n",
       "      <td>8</td>\n",
       "      <td>4</td>\n",
       "      <td>NaN</td>\n",
       "    </tr>\n",
       "    <tr>\n",
       "      <th>5</th>\n",
       "      <td>Saturday</td>\n",
       "      <td>Sun</td>\n",
       "      <td>7</td>\n",
       "      <td>3</td>\n",
       "      <td>NaN</td>\n",
       "    </tr>\n",
       "    <tr>\n",
       "      <th>6</th>\n",
       "      <td>Sunday</td>\n",
       "      <td>Cloud</td>\n",
       "      <td>8</td>\n",
       "      <td>3</td>\n",
       "      <td>NaN</td>\n",
       "    </tr>\n",
       "  </tbody>\n",
       "</table>\n",
       "</div>"
      ],
      "text/plain": [
       "  Day of the week Weather conditions  Temperature in the middle of the day  \\\n",
       "0          Monday        Cloud & Sun                                     4   \n",
       "1         Tuesday              Cloud                                     6   \n",
       "2       Wednesday              Cloud                                     6   \n",
       "3        Thursday        Cloud & Sun                                     9   \n",
       "4          Friday        Cloud & Sun                                     8   \n",
       "5        Saturday                Sun                                     7   \n",
       "6          Sunday              Cloud                                     8   \n",
       "\n",
       "   Wind (m/s) Precipitation (mm)  \n",
       "0           1                NaN  \n",
       "1           6                NaN  \n",
       "2           2                NaN  \n",
       "3           2                NaN  \n",
       "4           4                NaN  \n",
       "5           3                NaN  \n",
       "6           3                NaN  "
      ]
     },
     "execution_count": 62,
     "metadata": {},
     "output_type": "execute_result"
    }
   ],
   "source": [
    "# we create a new DataFrame with a new column\n",
    "nframe = pd.DataFrame(data, columns=['Day of the week', 'Weather conditions', 'Temperature in the middle of the day', \n",
    "                                     'Wind (m/s)', 'Precipitation (mm)'])\n",
    "\n",
    "nframe"
   ]
  },
  {
   "cell_type": "markdown",
   "metadata": {},
   "source": [
    "Modify a single value"
   ]
  },
  {
   "cell_type": "code",
   "execution_count": 50,
   "metadata": {},
   "outputs": [
    {
     "data": {
      "text/html": [
       "<div>\n",
       "<style scoped>\n",
       "    .dataframe tbody tr th:only-of-type {\n",
       "        vertical-align: middle;\n",
       "    }\n",
       "\n",
       "    .dataframe tbody tr th {\n",
       "        vertical-align: top;\n",
       "    }\n",
       "\n",
       "    .dataframe thead th {\n",
       "        text-align: right;\n",
       "    }\n",
       "</style>\n",
       "<table border=\"1\" class=\"dataframe\">\n",
       "  <thead>\n",
       "    <tr style=\"text-align: right;\">\n",
       "      <th></th>\n",
       "      <th>Day of the week</th>\n",
       "      <th>Weather conditions</th>\n",
       "      <th>Temperature in the middle of the day</th>\n",
       "      <th>Wind (m/s)</th>\n",
       "      <th>Precipitation (mm)</th>\n",
       "    </tr>\n",
       "  </thead>\n",
       "  <tbody>\n",
       "    <tr>\n",
       "      <th>0</th>\n",
       "      <td>Monday</td>\n",
       "      <td>Cloud &amp; Sun</td>\n",
       "      <td>4</td>\n",
       "      <td>1</td>\n",
       "      <td>2.3</td>\n",
       "    </tr>\n",
       "    <tr>\n",
       "      <th>1</th>\n",
       "      <td>Tuesday</td>\n",
       "      <td>Cloud</td>\n",
       "      <td>6</td>\n",
       "      <td>6</td>\n",
       "      <td>NaN</td>\n",
       "    </tr>\n",
       "    <tr>\n",
       "      <th>2</th>\n",
       "      <td>Wednesday</td>\n",
       "      <td>Cloud</td>\n",
       "      <td>6</td>\n",
       "      <td>2</td>\n",
       "      <td>NaN</td>\n",
       "    </tr>\n",
       "    <tr>\n",
       "      <th>3</th>\n",
       "      <td>Thursday</td>\n",
       "      <td>Cloud &amp; Sun</td>\n",
       "      <td>9</td>\n",
       "      <td>2</td>\n",
       "      <td>NaN</td>\n",
       "    </tr>\n",
       "    <tr>\n",
       "      <th>4</th>\n",
       "      <td>Friday</td>\n",
       "      <td>Cloud &amp; Sun</td>\n",
       "      <td>8</td>\n",
       "      <td>4</td>\n",
       "      <td>NaN</td>\n",
       "    </tr>\n",
       "    <tr>\n",
       "      <th>5</th>\n",
       "      <td>Saturday</td>\n",
       "      <td>Sun</td>\n",
       "      <td>7</td>\n",
       "      <td>3</td>\n",
       "      <td>NaN</td>\n",
       "    </tr>\n",
       "    <tr>\n",
       "      <th>6</th>\n",
       "      <td>Sunday</td>\n",
       "      <td>Cloud</td>\n",
       "      <td>8</td>\n",
       "      <td>3</td>\n",
       "      <td>NaN</td>\n",
       "    </tr>\n",
       "  </tbody>\n",
       "</table>\n",
       "</div>"
      ],
      "text/plain": [
       "  Day of the week Weather conditions  Temperature in the middle of the day  \\\n",
       "0          Monday        Cloud & Sun                                     4   \n",
       "1         Tuesday              Cloud                                     6   \n",
       "2       Wednesday              Cloud                                     6   \n",
       "3        Thursday        Cloud & Sun                                     9   \n",
       "4          Friday        Cloud & Sun                                     8   \n",
       "5        Saturday                Sun                                     7   \n",
       "6          Sunday              Cloud                                     8   \n",
       "\n",
       "   Wind (m/s) Precipitation (mm)  \n",
       "0           1                2.3  \n",
       "1           6                NaN  \n",
       "2           2                NaN  \n",
       "3           2                NaN  \n",
       "4           4                NaN  \n",
       "5           3                NaN  \n",
       "6           3                NaN  "
      ]
     },
     "execution_count": 50,
     "metadata": {},
     "output_type": "execute_result"
    }
   ],
   "source": [
    "nframe['Precipitation (mm)'].values[0] = 2.3\n",
    "\n",
    "nframe"
   ]
  },
  {
   "cell_type": "markdown",
   "metadata": {},
   "source": [
    "Modify a slice of values"
   ]
  },
  {
   "cell_type": "code",
   "execution_count": 51,
   "metadata": {},
   "outputs": [
    {
     "data": {
      "text/html": [
       "<div>\n",
       "<style scoped>\n",
       "    .dataframe tbody tr th:only-of-type {\n",
       "        vertical-align: middle;\n",
       "    }\n",
       "\n",
       "    .dataframe tbody tr th {\n",
       "        vertical-align: top;\n",
       "    }\n",
       "\n",
       "    .dataframe thead th {\n",
       "        text-align: right;\n",
       "    }\n",
       "</style>\n",
       "<table border=\"1\" class=\"dataframe\">\n",
       "  <thead>\n",
       "    <tr style=\"text-align: right;\">\n",
       "      <th></th>\n",
       "      <th>Day of the week</th>\n",
       "      <th>Weather conditions</th>\n",
       "      <th>Temperature in the middle of the day</th>\n",
       "      <th>Wind (m/s)</th>\n",
       "      <th>Precipitation (mm)</th>\n",
       "    </tr>\n",
       "  </thead>\n",
       "  <tbody>\n",
       "    <tr>\n",
       "      <th>0</th>\n",
       "      <td>Monday</td>\n",
       "      <td>Cloud &amp; Sun</td>\n",
       "      <td>4</td>\n",
       "      <td>1</td>\n",
       "      <td>2.3</td>\n",
       "    </tr>\n",
       "    <tr>\n",
       "      <th>1</th>\n",
       "      <td>Tuesday</td>\n",
       "      <td>Cloud</td>\n",
       "      <td>6</td>\n",
       "      <td>6</td>\n",
       "      <td>1</td>\n",
       "    </tr>\n",
       "    <tr>\n",
       "      <th>2</th>\n",
       "      <td>Wednesday</td>\n",
       "      <td>Cloud</td>\n",
       "      <td>6</td>\n",
       "      <td>2</td>\n",
       "      <td>1</td>\n",
       "    </tr>\n",
       "    <tr>\n",
       "      <th>3</th>\n",
       "      <td>Thursday</td>\n",
       "      <td>Cloud &amp; Sun</td>\n",
       "      <td>9</td>\n",
       "      <td>2</td>\n",
       "      <td>1</td>\n",
       "    </tr>\n",
       "    <tr>\n",
       "      <th>4</th>\n",
       "      <td>Friday</td>\n",
       "      <td>Cloud &amp; Sun</td>\n",
       "      <td>8</td>\n",
       "      <td>4</td>\n",
       "      <td>NaN</td>\n",
       "    </tr>\n",
       "    <tr>\n",
       "      <th>5</th>\n",
       "      <td>Saturday</td>\n",
       "      <td>Sun</td>\n",
       "      <td>7</td>\n",
       "      <td>3</td>\n",
       "      <td>NaN</td>\n",
       "    </tr>\n",
       "    <tr>\n",
       "      <th>6</th>\n",
       "      <td>Sunday</td>\n",
       "      <td>Cloud</td>\n",
       "      <td>8</td>\n",
       "      <td>3</td>\n",
       "      <td>NaN</td>\n",
       "    </tr>\n",
       "  </tbody>\n",
       "</table>\n",
       "</div>"
      ],
      "text/plain": [
       "  Day of the week Weather conditions  Temperature in the middle of the day  \\\n",
       "0          Monday        Cloud & Sun                                     4   \n",
       "1         Tuesday              Cloud                                     6   \n",
       "2       Wednesday              Cloud                                     6   \n",
       "3        Thursday        Cloud & Sun                                     9   \n",
       "4          Friday        Cloud & Sun                                     8   \n",
       "5        Saturday                Sun                                     7   \n",
       "6          Sunday              Cloud                                     8   \n",
       "\n",
       "   Wind (m/s) Precipitation (mm)  \n",
       "0           1                2.3  \n",
       "1           6                  1  \n",
       "2           2                  1  \n",
       "3           2                  1  \n",
       "4           4                NaN  \n",
       "5           3                NaN  \n",
       "6           3                NaN  "
      ]
     },
     "execution_count": 51,
     "metadata": {},
     "output_type": "execute_result"
    }
   ],
   "source": [
    "nframe['Precipitation (mm)'].values[1:4] = 1.0\n",
    "\n",
    "nframe"
   ]
  },
  {
   "cell_type": "markdown",
   "metadata": {},
   "source": [
    "Change all values"
   ]
  },
  {
   "cell_type": "code",
   "execution_count": 53,
   "metadata": {},
   "outputs": [
    {
     "data": {
      "text/html": [
       "<div>\n",
       "<style scoped>\n",
       "    .dataframe tbody tr th:only-of-type {\n",
       "        vertical-align: middle;\n",
       "    }\n",
       "\n",
       "    .dataframe tbody tr th {\n",
       "        vertical-align: top;\n",
       "    }\n",
       "\n",
       "    .dataframe thead th {\n",
       "        text-align: right;\n",
       "    }\n",
       "</style>\n",
       "<table border=\"1\" class=\"dataframe\">\n",
       "  <thead>\n",
       "    <tr style=\"text-align: right;\">\n",
       "      <th></th>\n",
       "      <th>Day of the week</th>\n",
       "      <th>Weather conditions</th>\n",
       "      <th>Temperature in the middle of the day</th>\n",
       "      <th>Wind (m/s)</th>\n",
       "      <th>Precipitation (mm)</th>\n",
       "    </tr>\n",
       "  </thead>\n",
       "  <tbody>\n",
       "    <tr>\n",
       "      <th>0</th>\n",
       "      <td>Monday</td>\n",
       "      <td>Cloud &amp; Sun</td>\n",
       "      <td>4</td>\n",
       "      <td>1</td>\n",
       "      <td>0.0</td>\n",
       "    </tr>\n",
       "    <tr>\n",
       "      <th>1</th>\n",
       "      <td>Tuesday</td>\n",
       "      <td>Cloud</td>\n",
       "      <td>6</td>\n",
       "      <td>6</td>\n",
       "      <td>0.0</td>\n",
       "    </tr>\n",
       "    <tr>\n",
       "      <th>2</th>\n",
       "      <td>Wednesday</td>\n",
       "      <td>Cloud</td>\n",
       "      <td>6</td>\n",
       "      <td>2</td>\n",
       "      <td>0.0</td>\n",
       "    </tr>\n",
       "    <tr>\n",
       "      <th>3</th>\n",
       "      <td>Thursday</td>\n",
       "      <td>Cloud &amp; Sun</td>\n",
       "      <td>9</td>\n",
       "      <td>2</td>\n",
       "      <td>0.0</td>\n",
       "    </tr>\n",
       "    <tr>\n",
       "      <th>4</th>\n",
       "      <td>Friday</td>\n",
       "      <td>Cloud &amp; Sun</td>\n",
       "      <td>8</td>\n",
       "      <td>4</td>\n",
       "      <td>0.0</td>\n",
       "    </tr>\n",
       "    <tr>\n",
       "      <th>5</th>\n",
       "      <td>Saturday</td>\n",
       "      <td>Sun</td>\n",
       "      <td>7</td>\n",
       "      <td>3</td>\n",
       "      <td>0.0</td>\n",
       "    </tr>\n",
       "    <tr>\n",
       "      <th>6</th>\n",
       "      <td>Sunday</td>\n",
       "      <td>Cloud</td>\n",
       "      <td>8</td>\n",
       "      <td>3</td>\n",
       "      <td>0.0</td>\n",
       "    </tr>\n",
       "  </tbody>\n",
       "</table>\n",
       "</div>"
      ],
      "text/plain": [
       "  Day of the week Weather conditions  Temperature in the middle of the day  \\\n",
       "0          Monday        Cloud & Sun                                     4   \n",
       "1         Tuesday              Cloud                                     6   \n",
       "2       Wednesday              Cloud                                     6   \n",
       "3        Thursday        Cloud & Sun                                     9   \n",
       "4          Friday        Cloud & Sun                                     8   \n",
       "5        Saturday                Sun                                     7   \n",
       "6          Sunday              Cloud                                     8   \n",
       "\n",
       "   Wind (m/s)  Precipitation (mm)  \n",
       "0           1                 0.0  \n",
       "1           6                 0.0  \n",
       "2           2                 0.0  \n",
       "3           2                 0.0  \n",
       "4           4                 0.0  \n",
       "5           3                 0.0  \n",
       "6           3                 0.0  "
      ]
     },
     "execution_count": 53,
     "metadata": {},
     "output_type": "execute_result"
    }
   ],
   "source": [
    "nframe['Precipitation (mm)'] = 0.0 #equivalent to nframe['Precipitation (mm)'].values[:] = 0.0\n",
    "\n",
    "nframe"
   ]
  },
  {
   "cell_type": "markdown",
   "metadata": {},
   "source": [
    "### Indexing, reindexing, selection with loc and iloc"
   ]
  },
  {
   "cell_type": "code",
   "execution_count": 63,
   "metadata": {},
   "outputs": [
    {
     "data": {
      "text/html": [
       "<div>\n",
       "<style scoped>\n",
       "    .dataframe tbody tr th:only-of-type {\n",
       "        vertical-align: middle;\n",
       "    }\n",
       "\n",
       "    .dataframe tbody tr th {\n",
       "        vertical-align: top;\n",
       "    }\n",
       "\n",
       "    .dataframe thead th {\n",
       "        text-align: right;\n",
       "    }\n",
       "</style>\n",
       "<table border=\"1\" class=\"dataframe\">\n",
       "  <thead>\n",
       "    <tr style=\"text-align: right;\">\n",
       "      <th></th>\n",
       "      <th>Weather conditions</th>\n",
       "      <th>Temperature in the middle of the day</th>\n",
       "      <th>Wind (m/s)</th>\n",
       "      <th>Precipitation (mm)</th>\n",
       "    </tr>\n",
       "    <tr>\n",
       "      <th>Day of the week</th>\n",
       "      <th></th>\n",
       "      <th></th>\n",
       "      <th></th>\n",
       "      <th></th>\n",
       "    </tr>\n",
       "  </thead>\n",
       "  <tbody>\n",
       "    <tr>\n",
       "      <th>Monday</th>\n",
       "      <td>Cloud &amp; Sun</td>\n",
       "      <td>4</td>\n",
       "      <td>1</td>\n",
       "      <td>NaN</td>\n",
       "    </tr>\n",
       "    <tr>\n",
       "      <th>Tuesday</th>\n",
       "      <td>Cloud</td>\n",
       "      <td>6</td>\n",
       "      <td>6</td>\n",
       "      <td>NaN</td>\n",
       "    </tr>\n",
       "    <tr>\n",
       "      <th>Wednesday</th>\n",
       "      <td>Cloud</td>\n",
       "      <td>6</td>\n",
       "      <td>2</td>\n",
       "      <td>NaN</td>\n",
       "    </tr>\n",
       "    <tr>\n",
       "      <th>Thursday</th>\n",
       "      <td>Cloud &amp; Sun</td>\n",
       "      <td>9</td>\n",
       "      <td>2</td>\n",
       "      <td>NaN</td>\n",
       "    </tr>\n",
       "    <tr>\n",
       "      <th>Friday</th>\n",
       "      <td>Cloud &amp; Sun</td>\n",
       "      <td>8</td>\n",
       "      <td>4</td>\n",
       "      <td>NaN</td>\n",
       "    </tr>\n",
       "    <tr>\n",
       "      <th>Saturday</th>\n",
       "      <td>Sun</td>\n",
       "      <td>7</td>\n",
       "      <td>3</td>\n",
       "      <td>NaN</td>\n",
       "    </tr>\n",
       "    <tr>\n",
       "      <th>Sunday</th>\n",
       "      <td>Cloud</td>\n",
       "      <td>8</td>\n",
       "      <td>3</td>\n",
       "      <td>NaN</td>\n",
       "    </tr>\n",
       "  </tbody>\n",
       "</table>\n",
       "</div>"
      ],
      "text/plain": [
       "                Weather conditions  Temperature in the middle of the day  \\\n",
       "Day of the week                                                            \n",
       "Monday                 Cloud & Sun                                     4   \n",
       "Tuesday                      Cloud                                     6   \n",
       "Wednesday                    Cloud                                     6   \n",
       "Thursday               Cloud & Sun                                     9   \n",
       "Friday                 Cloud & Sun                                     8   \n",
       "Saturday                       Sun                                     7   \n",
       "Sunday                       Cloud                                     8   \n",
       "\n",
       "                 Wind (m/s) Precipitation (mm)  \n",
       "Day of the week                                 \n",
       "Monday                    1                NaN  \n",
       "Tuesday                   6                NaN  \n",
       "Wednesday                 2                NaN  \n",
       "Thursday                  2                NaN  \n",
       "Friday                    4                NaN  \n",
       "Saturday                  3                NaN  \n",
       "Sunday                    3                NaN  "
      ]
     },
     "execution_count": 63,
     "metadata": {},
     "output_type": "execute_result"
    }
   ],
   "source": [
    "nframe = nframe.set_index('Day of the week')\n",
    "\n",
    "nframe"
   ]
  },
  {
   "cell_type": "code",
   "execution_count": 65,
   "metadata": {},
   "outputs": [
    {
     "data": {
      "text/plain": [
       "Weather conditions                      Cloud & Sun\n",
       "Temperature in the middle of the day              4\n",
       "Wind (m/s)                                        1\n",
       "Precipitation (mm)                              NaN\n",
       "Name: Monday, dtype: object"
      ]
     },
     "execution_count": 65,
     "metadata": {},
     "output_type": "execute_result"
    }
   ],
   "source": [
    "nframe.loc['Monday']"
   ]
  },
  {
   "cell_type": "code",
   "execution_count": 66,
   "metadata": {},
   "outputs": [
    {
     "data": {
      "text/plain": [
       "Weather conditions                      Cloud & Sun\n",
       "Temperature in the middle of the day              4\n",
       "Wind (m/s)                                        1\n",
       "Precipitation (mm)                              NaN\n",
       "Name: Monday, dtype: object"
      ]
     },
     "execution_count": 66,
     "metadata": {},
     "output_type": "execute_result"
    }
   ],
   "source": [
    "nframe.iloc[0]"
   ]
  },
  {
   "cell_type": "code",
   "execution_count": 69,
   "metadata": {},
   "outputs": [
    {
     "data": {
      "text/html": [
       "<div>\n",
       "<style scoped>\n",
       "    .dataframe tbody tr th:only-of-type {\n",
       "        vertical-align: middle;\n",
       "    }\n",
       "\n",
       "    .dataframe tbody tr th {\n",
       "        vertical-align: top;\n",
       "    }\n",
       "\n",
       "    .dataframe thead th {\n",
       "        text-align: right;\n",
       "    }\n",
       "</style>\n",
       "<table border=\"1\" class=\"dataframe\">\n",
       "  <thead>\n",
       "    <tr style=\"text-align: right;\">\n",
       "      <th></th>\n",
       "      <th>Weather conditions</th>\n",
       "      <th>Temperature in the middle of the day</th>\n",
       "      <th>Wind (m/s)</th>\n",
       "      <th>Precipitation (mm)</th>\n",
       "    </tr>\n",
       "    <tr>\n",
       "      <th>Day of the week</th>\n",
       "      <th></th>\n",
       "      <th></th>\n",
       "      <th></th>\n",
       "      <th></th>\n",
       "    </tr>\n",
       "  </thead>\n",
       "  <tbody>\n",
       "    <tr>\n",
       "      <th>Wednesday</th>\n",
       "      <td>Cloud</td>\n",
       "      <td>6</td>\n",
       "      <td>2</td>\n",
       "      <td>NaN</td>\n",
       "    </tr>\n",
       "    <tr>\n",
       "      <th>Thursday</th>\n",
       "      <td>Cloud &amp; Sun</td>\n",
       "      <td>9</td>\n",
       "      <td>2</td>\n",
       "      <td>NaN</td>\n",
       "    </tr>\n",
       "    <tr>\n",
       "      <th>Friday</th>\n",
       "      <td>Cloud &amp; Sun</td>\n",
       "      <td>8</td>\n",
       "      <td>4</td>\n",
       "      <td>NaN</td>\n",
       "    </tr>\n",
       "    <tr>\n",
       "      <th>Saturday</th>\n",
       "      <td>Sun</td>\n",
       "      <td>7</td>\n",
       "      <td>3</td>\n",
       "      <td>NaN</td>\n",
       "    </tr>\n",
       "    <tr>\n",
       "      <th>Sunday</th>\n",
       "      <td>Cloud</td>\n",
       "      <td>8</td>\n",
       "      <td>3</td>\n",
       "      <td>NaN</td>\n",
       "    </tr>\n",
       "    <tr>\n",
       "      <th>Monday</th>\n",
       "      <td>Cloud &amp; Sun</td>\n",
       "      <td>4</td>\n",
       "      <td>1</td>\n",
       "      <td>NaN</td>\n",
       "    </tr>\n",
       "    <tr>\n",
       "      <th>Tuesday</th>\n",
       "      <td>Cloud</td>\n",
       "      <td>6</td>\n",
       "      <td>6</td>\n",
       "      <td>NaN</td>\n",
       "    </tr>\n",
       "  </tbody>\n",
       "</table>\n",
       "</div>"
      ],
      "text/plain": [
       "                Weather conditions  Temperature in the middle of the day  \\\n",
       "Day of the week                                                            \n",
       "Wednesday                    Cloud                                     6   \n",
       "Thursday               Cloud & Sun                                     9   \n",
       "Friday                 Cloud & Sun                                     8   \n",
       "Saturday                       Sun                                     7   \n",
       "Sunday                       Cloud                                     8   \n",
       "Monday                 Cloud & Sun                                     4   \n",
       "Tuesday                      Cloud                                     6   \n",
       "\n",
       "                 Wind (m/s) Precipitation (mm)  \n",
       "Day of the week                                 \n",
       "Wednesday                 2                NaN  \n",
       "Thursday                  2                NaN  \n",
       "Friday                    4                NaN  \n",
       "Saturday                  3                NaN  \n",
       "Sunday                    3                NaN  \n",
       "Monday                    1                NaN  \n",
       "Tuesday                   6                NaN  "
      ]
     },
     "execution_count": 69,
     "metadata": {},
     "output_type": "execute_result"
    }
   ],
   "source": [
    "# re-indexing\n",
    "nframe2 = nframe.reindex(['Wednesday', 'Thursday', 'Friday', 'Saturday', 'Sunday','Monday', 'Tuesday'])\n",
    "\n",
    "nframe2"
   ]
  },
  {
   "cell_type": "markdown",
   "metadata": {},
   "source": [
    "### Sorting of columns\n",
    "\n",
    "Sort by a column"
   ]
  },
  {
   "cell_type": "code",
   "execution_count": 70,
   "metadata": {},
   "outputs": [
    {
     "data": {
      "text/html": [
       "<div>\n",
       "<style scoped>\n",
       "    .dataframe tbody tr th:only-of-type {\n",
       "        vertical-align: middle;\n",
       "    }\n",
       "\n",
       "    .dataframe tbody tr th {\n",
       "        vertical-align: top;\n",
       "    }\n",
       "\n",
       "    .dataframe thead th {\n",
       "        text-align: right;\n",
       "    }\n",
       "</style>\n",
       "<table border=\"1\" class=\"dataframe\">\n",
       "  <thead>\n",
       "    <tr style=\"text-align: right;\">\n",
       "      <th></th>\n",
       "      <th>Weather conditions</th>\n",
       "      <th>Temperature in the middle of the day</th>\n",
       "      <th>Wind (m/s)</th>\n",
       "      <th>Precipitation (mm)</th>\n",
       "    </tr>\n",
       "    <tr>\n",
       "      <th>Day of the week</th>\n",
       "      <th></th>\n",
       "      <th></th>\n",
       "      <th></th>\n",
       "      <th></th>\n",
       "    </tr>\n",
       "  </thead>\n",
       "  <tbody>\n",
       "    <tr>\n",
       "      <th>Monday</th>\n",
       "      <td>Cloud &amp; Sun</td>\n",
       "      <td>4</td>\n",
       "      <td>1</td>\n",
       "      <td>NaN</td>\n",
       "    </tr>\n",
       "    <tr>\n",
       "      <th>Wednesday</th>\n",
       "      <td>Cloud</td>\n",
       "      <td>6</td>\n",
       "      <td>2</td>\n",
       "      <td>NaN</td>\n",
       "    </tr>\n",
       "    <tr>\n",
       "      <th>Tuesday</th>\n",
       "      <td>Cloud</td>\n",
       "      <td>6</td>\n",
       "      <td>6</td>\n",
       "      <td>NaN</td>\n",
       "    </tr>\n",
       "    <tr>\n",
       "      <th>Saturday</th>\n",
       "      <td>Sun</td>\n",
       "      <td>7</td>\n",
       "      <td>3</td>\n",
       "      <td>NaN</td>\n",
       "    </tr>\n",
       "    <tr>\n",
       "      <th>Friday</th>\n",
       "      <td>Cloud &amp; Sun</td>\n",
       "      <td>8</td>\n",
       "      <td>4</td>\n",
       "      <td>NaN</td>\n",
       "    </tr>\n",
       "    <tr>\n",
       "      <th>Sunday</th>\n",
       "      <td>Cloud</td>\n",
       "      <td>8</td>\n",
       "      <td>3</td>\n",
       "      <td>NaN</td>\n",
       "    </tr>\n",
       "    <tr>\n",
       "      <th>Thursday</th>\n",
       "      <td>Cloud &amp; Sun</td>\n",
       "      <td>9</td>\n",
       "      <td>2</td>\n",
       "      <td>NaN</td>\n",
       "    </tr>\n",
       "  </tbody>\n",
       "</table>\n",
       "</div>"
      ],
      "text/plain": [
       "                Weather conditions  Temperature in the middle of the day  \\\n",
       "Day of the week                                                            \n",
       "Monday                 Cloud & Sun                                     4   \n",
       "Wednesday                    Cloud                                     6   \n",
       "Tuesday                      Cloud                                     6   \n",
       "Saturday                       Sun                                     7   \n",
       "Friday                 Cloud & Sun                                     8   \n",
       "Sunday                       Cloud                                     8   \n",
       "Thursday               Cloud & Sun                                     9   \n",
       "\n",
       "                 Wind (m/s) Precipitation (mm)  \n",
       "Day of the week                                 \n",
       "Monday                    1                NaN  \n",
       "Wednesday                 2                NaN  \n",
       "Tuesday                   6                NaN  \n",
       "Saturday                  3                NaN  \n",
       "Friday                    4                NaN  \n",
       "Sunday                    3                NaN  \n",
       "Thursday                  2                NaN  "
      ]
     },
     "execution_count": 70,
     "metadata": {},
     "output_type": "execute_result"
    }
   ],
   "source": [
    "nframe2.sort_values(by='Temperature in the middle of the day') #default ascending"
   ]
  },
  {
   "cell_type": "code",
   "execution_count": 71,
   "metadata": {},
   "outputs": [
    {
     "data": {
      "text/html": [
       "<div>\n",
       "<style scoped>\n",
       "    .dataframe tbody tr th:only-of-type {\n",
       "        vertical-align: middle;\n",
       "    }\n",
       "\n",
       "    .dataframe tbody tr th {\n",
       "        vertical-align: top;\n",
       "    }\n",
       "\n",
       "    .dataframe thead th {\n",
       "        text-align: right;\n",
       "    }\n",
       "</style>\n",
       "<table border=\"1\" class=\"dataframe\">\n",
       "  <thead>\n",
       "    <tr style=\"text-align: right;\">\n",
       "      <th></th>\n",
       "      <th>Weather conditions</th>\n",
       "      <th>Temperature in the middle of the day</th>\n",
       "      <th>Wind (m/s)</th>\n",
       "      <th>Precipitation (mm)</th>\n",
       "    </tr>\n",
       "    <tr>\n",
       "      <th>Day of the week</th>\n",
       "      <th></th>\n",
       "      <th></th>\n",
       "      <th></th>\n",
       "      <th></th>\n",
       "    </tr>\n",
       "  </thead>\n",
       "  <tbody>\n",
       "    <tr>\n",
       "      <th>Thursday</th>\n",
       "      <td>Cloud &amp; Sun</td>\n",
       "      <td>9</td>\n",
       "      <td>2</td>\n",
       "      <td>NaN</td>\n",
       "    </tr>\n",
       "    <tr>\n",
       "      <th>Friday</th>\n",
       "      <td>Cloud &amp; Sun</td>\n",
       "      <td>8</td>\n",
       "      <td>4</td>\n",
       "      <td>NaN</td>\n",
       "    </tr>\n",
       "    <tr>\n",
       "      <th>Sunday</th>\n",
       "      <td>Cloud</td>\n",
       "      <td>8</td>\n",
       "      <td>3</td>\n",
       "      <td>NaN</td>\n",
       "    </tr>\n",
       "    <tr>\n",
       "      <th>Saturday</th>\n",
       "      <td>Sun</td>\n",
       "      <td>7</td>\n",
       "      <td>3</td>\n",
       "      <td>NaN</td>\n",
       "    </tr>\n",
       "    <tr>\n",
       "      <th>Wednesday</th>\n",
       "      <td>Cloud</td>\n",
       "      <td>6</td>\n",
       "      <td>2</td>\n",
       "      <td>NaN</td>\n",
       "    </tr>\n",
       "    <tr>\n",
       "      <th>Tuesday</th>\n",
       "      <td>Cloud</td>\n",
       "      <td>6</td>\n",
       "      <td>6</td>\n",
       "      <td>NaN</td>\n",
       "    </tr>\n",
       "    <tr>\n",
       "      <th>Monday</th>\n",
       "      <td>Cloud &amp; Sun</td>\n",
       "      <td>4</td>\n",
       "      <td>1</td>\n",
       "      <td>NaN</td>\n",
       "    </tr>\n",
       "  </tbody>\n",
       "</table>\n",
       "</div>"
      ],
      "text/plain": [
       "                Weather conditions  Temperature in the middle of the day  \\\n",
       "Day of the week                                                            \n",
       "Thursday               Cloud & Sun                                     9   \n",
       "Friday                 Cloud & Sun                                     8   \n",
       "Sunday                       Cloud                                     8   \n",
       "Saturday                       Sun                                     7   \n",
       "Wednesday                    Cloud                                     6   \n",
       "Tuesday                      Cloud                                     6   \n",
       "Monday                 Cloud & Sun                                     4   \n",
       "\n",
       "                 Wind (m/s) Precipitation (mm)  \n",
       "Day of the week                                 \n",
       "Thursday                  2                NaN  \n",
       "Friday                    4                NaN  \n",
       "Sunday                    3                NaN  \n",
       "Saturday                  3                NaN  \n",
       "Wednesday                 2                NaN  \n",
       "Tuesday                   6                NaN  \n",
       "Monday                    1                NaN  "
      ]
     },
     "execution_count": 71,
     "metadata": {},
     "output_type": "execute_result"
    }
   ],
   "source": [
    "nframe2.sort_values(by='Temperature in the middle of the day', ascending=False) #descending"
   ]
  },
  {
   "cell_type": "markdown",
   "metadata": {},
   "source": [
    "Sorting by multiple columns"
   ]
  },
  {
   "cell_type": "code",
   "execution_count": 72,
   "metadata": {},
   "outputs": [
    {
     "data": {
      "text/html": [
       "<div>\n",
       "<style scoped>\n",
       "    .dataframe tbody tr th:only-of-type {\n",
       "        vertical-align: middle;\n",
       "    }\n",
       "\n",
       "    .dataframe tbody tr th {\n",
       "        vertical-align: top;\n",
       "    }\n",
       "\n",
       "    .dataframe thead th {\n",
       "        text-align: right;\n",
       "    }\n",
       "</style>\n",
       "<table border=\"1\" class=\"dataframe\">\n",
       "  <thead>\n",
       "    <tr style=\"text-align: right;\">\n",
       "      <th></th>\n",
       "      <th>Weather conditions</th>\n",
       "      <th>Temperature in the middle of the day</th>\n",
       "      <th>Wind (m/s)</th>\n",
       "      <th>Precipitation (mm)</th>\n",
       "    </tr>\n",
       "    <tr>\n",
       "      <th>Day of the week</th>\n",
       "      <th></th>\n",
       "      <th></th>\n",
       "      <th></th>\n",
       "      <th></th>\n",
       "    </tr>\n",
       "  </thead>\n",
       "  <tbody>\n",
       "    <tr>\n",
       "      <th>Thursday</th>\n",
       "      <td>Cloud &amp; Sun</td>\n",
       "      <td>9</td>\n",
       "      <td>2</td>\n",
       "      <td>NaN</td>\n",
       "    </tr>\n",
       "    <tr>\n",
       "      <th>Friday</th>\n",
       "      <td>Cloud &amp; Sun</td>\n",
       "      <td>8</td>\n",
       "      <td>4</td>\n",
       "      <td>NaN</td>\n",
       "    </tr>\n",
       "    <tr>\n",
       "      <th>Sunday</th>\n",
       "      <td>Cloud</td>\n",
       "      <td>8</td>\n",
       "      <td>3</td>\n",
       "      <td>NaN</td>\n",
       "    </tr>\n",
       "    <tr>\n",
       "      <th>Saturday</th>\n",
       "      <td>Sun</td>\n",
       "      <td>7</td>\n",
       "      <td>3</td>\n",
       "      <td>NaN</td>\n",
       "    </tr>\n",
       "    <tr>\n",
       "      <th>Tuesday</th>\n",
       "      <td>Cloud</td>\n",
       "      <td>6</td>\n",
       "      <td>6</td>\n",
       "      <td>NaN</td>\n",
       "    </tr>\n",
       "    <tr>\n",
       "      <th>Wednesday</th>\n",
       "      <td>Cloud</td>\n",
       "      <td>6</td>\n",
       "      <td>2</td>\n",
       "      <td>NaN</td>\n",
       "    </tr>\n",
       "    <tr>\n",
       "      <th>Monday</th>\n",
       "      <td>Cloud &amp; Sun</td>\n",
       "      <td>4</td>\n",
       "      <td>1</td>\n",
       "      <td>NaN</td>\n",
       "    </tr>\n",
       "  </tbody>\n",
       "</table>\n",
       "</div>"
      ],
      "text/plain": [
       "                Weather conditions  Temperature in the middle of the day  \\\n",
       "Day of the week                                                            \n",
       "Thursday               Cloud & Sun                                     9   \n",
       "Friday                 Cloud & Sun                                     8   \n",
       "Sunday                       Cloud                                     8   \n",
       "Saturday                       Sun                                     7   \n",
       "Tuesday                      Cloud                                     6   \n",
       "Wednesday                    Cloud                                     6   \n",
       "Monday                 Cloud & Sun                                     4   \n",
       "\n",
       "                 Wind (m/s) Precipitation (mm)  \n",
       "Day of the week                                 \n",
       "Thursday                  2                NaN  \n",
       "Friday                    4                NaN  \n",
       "Sunday                    3                NaN  \n",
       "Saturday                  3                NaN  \n",
       "Tuesday                   6                NaN  \n",
       "Wednesday                 2                NaN  \n",
       "Monday                    1                NaN  "
      ]
     },
     "execution_count": 72,
     "metadata": {},
     "output_type": "execute_result"
    }
   ],
   "source": [
    "nframe2.sort_values(by=['Temperature in the middle of the day', 'Wind (m/s)'], ascending=False) #descending"
   ]
  },
  {
   "cell_type": "markdown",
   "metadata": {},
   "source": [
    "## Importing a DataFrame\n",
    "Data is provided by Manon"
   ]
  },
  {
   "cell_type": "code",
   "execution_count": 29,
   "metadata": {},
   "outputs": [
    {
     "data": {
      "text/html": [
       "<div>\n",
       "<style scoped>\n",
       "    .dataframe tbody tr th:only-of-type {\n",
       "        vertical-align: middle;\n",
       "    }\n",
       "\n",
       "    .dataframe tbody tr th {\n",
       "        vertical-align: top;\n",
       "    }\n",
       "\n",
       "    .dataframe thead th {\n",
       "        text-align: right;\n",
       "    }\n",
       "</style>\n",
       "<table border=\"1\" class=\"dataframe\">\n",
       "  <thead>\n",
       "    <tr style=\"text-align: right;\">\n",
       "      <th></th>\n",
       "      <th>depth (m)</th>\n",
       "      <th>Age_04032019_0,1mm_0,01yr</th>\n",
       "      <th>Age. Cal. CE</th>\n",
       "      <th>Al</th>\n",
       "      <th>Si</th>\n",
       "      <th>P</th>\n",
       "      <th>S</th>\n",
       "      <th>Cl</th>\n",
       "      <th>Ar</th>\n",
       "      <th>K</th>\n",
       "      <th>...</th>\n",
       "      <th>Si/Ti</th>\n",
       "      <th>P/Ti</th>\n",
       "      <th>Fe/Mn</th>\n",
       "      <th>Fe/Ti</th>\n",
       "      <th>Pb/Ti</th>\n",
       "      <th>S/OM</th>\n",
       "      <th>S/Ti</th>\n",
       "      <th>Hg/Mn</th>\n",
       "      <th>Hg/Ti.1</th>\n",
       "      <th>Hg/MO</th>\n",
       "    </tr>\n",
       "  </thead>\n",
       "  <tbody>\n",
       "    <tr>\n",
       "      <th>0</th>\n",
       "      <td>0.0000</td>\n",
       "      <td>-68.00</td>\n",
       "      <td>2018.00</td>\n",
       "      <td>25</td>\n",
       "      <td>11</td>\n",
       "      <td>12</td>\n",
       "      <td>82</td>\n",
       "      <td>29</td>\n",
       "      <td>136</td>\n",
       "      <td>6</td>\n",
       "      <td>...</td>\n",
       "      <td>0.137500</td>\n",
       "      <td>0.150000</td>\n",
       "      <td>80.225806</td>\n",
       "      <td>62.175000</td>\n",
       "      <td>0.0</td>\n",
       "      <td>11.958182</td>\n",
       "      <td>1.025000</td>\n",
       "      <td>0.000000</td>\n",
       "      <td>0.000000</td>\n",
       "      <td>0.000000</td>\n",
       "    </tr>\n",
       "    <tr>\n",
       "      <th>1</th>\n",
       "      <td>0.0002</td>\n",
       "      <td>-67.97</td>\n",
       "      <td>2017.97</td>\n",
       "      <td>22</td>\n",
       "      <td>0</td>\n",
       "      <td>18</td>\n",
       "      <td>76</td>\n",
       "      <td>23</td>\n",
       "      <td>167</td>\n",
       "      <td>19</td>\n",
       "      <td>...</td>\n",
       "      <td>0.000000</td>\n",
       "      <td>0.500000</td>\n",
       "      <td>98.203704</td>\n",
       "      <td>147.305556</td>\n",
       "      <td>0.0</td>\n",
       "      <td>10.919643</td>\n",
       "      <td>2.111111</td>\n",
       "      <td>3.092593</td>\n",
       "      <td>4.638889</td>\n",
       "      <td>23.994480</td>\n",
       "    </tr>\n",
       "    <tr>\n",
       "      <th>2</th>\n",
       "      <td>0.0004</td>\n",
       "      <td>-67.81</td>\n",
       "      <td>2017.81</td>\n",
       "      <td>53</td>\n",
       "      <td>6</td>\n",
       "      <td>0</td>\n",
       "      <td>37</td>\n",
       "      <td>9</td>\n",
       "      <td>141</td>\n",
       "      <td>19</td>\n",
       "      <td>...</td>\n",
       "      <td>0.272727</td>\n",
       "      <td>0.000000</td>\n",
       "      <td>92.290323</td>\n",
       "      <td>260.090909</td>\n",
       "      <td>0.0</td>\n",
       "      <td>5.525249</td>\n",
       "      <td>1.681818</td>\n",
       "      <td>0.274194</td>\n",
       "      <td>0.772727</td>\n",
       "      <td>2.538628</td>\n",
       "    </tr>\n",
       "    <tr>\n",
       "      <th>3</th>\n",
       "      <td>0.0006</td>\n",
       "      <td>-67.65</td>\n",
       "      <td>2017.65</td>\n",
       "      <td>18</td>\n",
       "      <td>6</td>\n",
       "      <td>17</td>\n",
       "      <td>64</td>\n",
       "      <td>8</td>\n",
       "      <td>167</td>\n",
       "      <td>23</td>\n",
       "      <td>...</td>\n",
       "      <td>0.157895</td>\n",
       "      <td>0.447368</td>\n",
       "      <td>138.069767</td>\n",
       "      <td>156.236842</td>\n",
       "      <td>0.0</td>\n",
       "      <td>9.239006</td>\n",
       "      <td>1.684211</td>\n",
       "      <td>0.000000</td>\n",
       "      <td>0.000000</td>\n",
       "      <td>0.000000</td>\n",
       "    </tr>\n",
       "    <tr>\n",
       "      <th>4</th>\n",
       "      <td>0.0008</td>\n",
       "      <td>-67.57</td>\n",
       "      <td>2017.57</td>\n",
       "      <td>36</td>\n",
       "      <td>32</td>\n",
       "      <td>22</td>\n",
       "      <td>74</td>\n",
       "      <td>13</td>\n",
       "      <td>129</td>\n",
       "      <td>23</td>\n",
       "      <td>...</td>\n",
       "      <td>0.323232</td>\n",
       "      <td>0.222222</td>\n",
       "      <td>75.576471</td>\n",
       "      <td>64.888889</td>\n",
       "      <td>0.0</td>\n",
       "      <td>10.632997</td>\n",
       "      <td>0.747475</td>\n",
       "      <td>1.000000</td>\n",
       "      <td>0.858586</td>\n",
       "      <td>12.213577</td>\n",
       "    </tr>\n",
       "  </tbody>\n",
       "</table>\n",
       "<p>5 rows × 45 columns</p>\n",
       "</div>"
      ],
      "text/plain": [
       "   depth (m)  Age_04032019_0,1mm_0,01yr  Age. Cal. CE  Al  Si   P   S  Cl  \\\n",
       "0     0.0000                     -68.00       2018.00  25  11  12  82  29   \n",
       "1     0.0002                     -67.97       2017.97  22   0  18  76  23   \n",
       "2     0.0004                     -67.81       2017.81  53   6   0  37   9   \n",
       "3     0.0006                     -67.65       2017.65  18   6  17  64   8   \n",
       "4     0.0008                     -67.57       2017.57  36  32  22  74  13   \n",
       "\n",
       "    Ar   K  ...     Si/Ti      P/Ti       Fe/Mn       Fe/Ti  Pb/Ti       S/OM  \\\n",
       "0  136   6  ...  0.137500  0.150000   80.225806   62.175000    0.0  11.958182   \n",
       "1  167  19  ...  0.000000  0.500000   98.203704  147.305556    0.0  10.919643   \n",
       "2  141  19  ...  0.272727  0.000000   92.290323  260.090909    0.0   5.525249   \n",
       "3  167  23  ...  0.157895  0.447368  138.069767  156.236842    0.0   9.239006   \n",
       "4  129  23  ...  0.323232  0.222222   75.576471   64.888889    0.0  10.632997   \n",
       "\n",
       "       S/Ti     Hg/Mn   Hg/Ti.1      Hg/MO  \n",
       "0  1.025000  0.000000  0.000000   0.000000  \n",
       "1  2.111111  3.092593  4.638889  23.994480  \n",
       "2  1.681818  0.274194  0.772727   2.538628  \n",
       "3  1.684211  0.000000  0.000000   0.000000  \n",
       "4  0.747475  1.000000  0.858586  12.213577  \n",
       "\n",
       "[5 rows x 45 columns]"
      ]
     },
     "execution_count": 29,
     "metadata": {},
     "output_type": "execute_result"
    }
   ],
   "source": [
    "path = 'C:/Users/yellow_chocobo/Desktop/python_class/data/Manon/' #directory to the file we would like to import\n",
    "filename = 'data_manon_python.xlsx'  # filename\n",
    "\n",
    "frame = pd.read_excel(path + filename)\n",
    "\n",
    "frame.head()"
   ]
  },
  {
   "cell_type": "code",
   "execution_count": 159,
   "metadata": {},
   "outputs": [
    {
     "data": {
      "image/png": "[encoded data removed]",
      "text/plain": [
       "<Figure size 1152x576 with 3 Axes>"
      ]
     },
     "metadata": {
      "needs_background": "light"
     },
     "output_type": "display_data"
    }
   ],
   "source": [
    "import matplotlib.pyplot as plt\n",
    "from matplotlib.gridspec import GridSpec\n",
    "\n",
    "%matplotlib inline\n",
    "\n",
    "fig = plt.figure(figsize=(16,8))\n",
    "\n",
    "\n",
    "gs=GridSpec(2,4) # 2 rows, 4 columns\n",
    "\n",
    "ax1=fig.add_subplot(gs[:,:2]) # Span all rows, firs two columns\n",
    "ax2=fig.add_subplot(gs[:,2]) # Span all rows, third column\n",
    "ax3=fig.add_subplot(gs[:,3]) # Span all rows, fourth column\n",
    "\n",
    "ax1.set_title('Calibrated Age')\n",
    "ax2.set_title('Aluminium content')\n",
    "ax3.set_title('Silicate content')\n",
    "\n",
    "ax1.plot(frame['Age. Cal. CE'],frame['depth (m)'],\"ko\")\n",
    "ax1.set_ylim(ax1.get_ylim()[::-1]) \n",
    "\n",
    "ax2.plot(frame['Al'],frame['depth (m)'],\"bo\")\n",
    "ax2.set_ylim(ax2.get_ylim()[::-1]) \n",
    "\n",
    "ax3.plot(frame['Si'],frame['depth (m)'],\"ro\")\n",
    "ax3.set_ylim(ax3.get_ylim()[::-1]) \n",
    "\n",
    "fig.tight_layout()"
   ]
  },
  {
   "cell_type": "markdown",
   "metadata": {},
   "source": [
    "# Time series\n",
    "For some of you, most of your data are time series. Time series can be differentiated in two main groups:\n",
    "- Fixed periods, such as a dataset where you will have data once a day (daily)\n",
    "- Intervals of time, i.e, discontinuous periods, indicated by a start and end time\n",
    "\n",
    "**we will here see how you can work with timeseries in Pandas**\n",
    "\n",
    "\n",
    "## Most important is to have a date format that will be recognized by Python!"
   ]
  },
  {
   "cell_type": "markdown",
   "metadata": {},
   "source": [
    "## Date format"
   ]
  },
  {
   "cell_type": "code",
   "execution_count": 2,
   "metadata": {},
   "outputs": [
    {
     "data": {
      "text/plain": [
       "datetime.datetime(2019, 3, 31, 12, 37, 38, 694910)"
      ]
     },
     "execution_count": 2,
     "metadata": {},
     "output_type": "execute_result"
    }
   ],
   "source": [
    "from datetime import datetime\n",
    "\n",
    "now = datetime.now()\n",
    "\n",
    "now"
   ]
  },
  {
   "cell_type": "code",
   "execution_count": 3,
   "metadata": {},
   "outputs": [
    {
     "data": {
      "text/plain": [
       "(2019, 3, 31)"
      ]
     },
     "execution_count": 3,
     "metadata": {},
     "output_type": "execute_result"
    }
   ],
   "source": [
    "now.year, now.month, now.day"
   ]
  },
  {
   "cell_type": "markdown",
   "metadata": {},
   "source": [
    "## Convertion between String and Datetime\n",
    "\n",
    "More information about the different datetime format can be found here: http://strftime.org/\n",
    "\n",
    "Most commonly used functions are within the ```datetime``` and ```dateutil``` modules\n",
    "\n",
    "### Date to string format"
   ]
  },
  {
   "cell_type": "code",
   "execution_count": 9,
   "metadata": {},
   "outputs": [
    {
     "data": {
      "text/plain": [
       "'2019-01-01 00:00:00'"
      ]
     },
     "execution_count": 9,
     "metadata": {},
     "output_type": "execute_result"
    }
   ],
   "source": [
    "timestamp = datetime(2019, 1, 1) # date format\n",
    "\n",
    "str(timestamp) # string format"
   ]
  },
  {
   "cell_type": "code",
   "execution_count": 10,
   "metadata": {},
   "outputs": [
    {
     "data": {
      "text/plain": [
       "'2019-01-01'"
      ]
     },
     "execution_count": 10,
     "metadata": {},
     "output_type": "execute_result"
    }
   ],
   "source": [
    "timestamp.strftime('%Y-%m-%d') # string format"
   ]
  },
  {
   "cell_type": "markdown",
   "metadata": {},
   "source": [
    "### String to date format"
   ]
  },
  {
   "cell_type": "code",
   "execution_count": 12,
   "metadata": {},
   "outputs": [
    {
     "data": {
      "text/plain": [
       "datetime.datetime(2019, 4, 1, 0, 0)"
      ]
     },
     "execution_count": 12,
     "metadata": {},
     "output_type": "execute_result"
    }
   ],
   "source": [
    "timestamp_str = '2019/04/01'\n",
    "\n",
    "datetime.strptime(timestamp_str, '%Y/%m/%d')"
   ]
  },
  {
   "cell_type": "markdown",
   "metadata": {},
   "source": [
    "```parse``` is also a handy function to convert string to date format\n",
    "\n",
    "Here are few examples:"
   ]
  },
  {
   "cell_type": "code",
   "execution_count": 13,
   "metadata": {},
   "outputs": [
    {
     "data": {
      "text/plain": [
       "datetime.datetime(2019, 4, 1, 0, 0)"
      ]
     },
     "execution_count": 13,
     "metadata": {},
     "output_type": "execute_result"
    }
   ],
   "source": [
    "from dateutil.parser import parse\n",
    "\n",
    "parse('2019/04/01')"
   ]
  },
  {
   "cell_type": "code",
   "execution_count": 14,
   "metadata": {},
   "outputs": [
    {
     "data": {
      "text/plain": [
       "datetime.datetime(2019, 4, 1, 0, 0)"
      ]
     },
     "execution_count": 14,
     "metadata": {},
     "output_type": "execute_result"
    }
   ],
   "source": [
    "parse('01/04/2019', dayfirst=True) # day in front"
   ]
  },
  {
   "cell_type": "markdown",
   "metadata": {},
   "source": [
    "In most cases we will work with intervals of date (either continuous or discontinuous).\n",
    "\n",
    "The easiest case is for **continuous measurements** as the integrated function ```pd.date_range``` can be used"
   ]
  },
  {
   "cell_type": "code",
   "execution_count": 20,
   "metadata": {},
   "outputs": [],
   "source": [
    "pd.date_range?"
   ]
  },
  {
   "cell_type": "code",
   "execution_count": 22,
   "metadata": {},
   "outputs": [
    {
     "data": {
      "text/plain": [
       "DatetimeIndex(['2019-01-01', '2019-01-02', '2019-01-03', '2019-01-04',\n",
       "               '2019-01-05', '2019-01-06', '2019-01-07', '2019-01-08',\n",
       "               '2019-01-09', '2019-01-10', '2019-01-11', '2019-01-12',\n",
       "               '2019-01-13', '2019-01-14', '2019-01-15', '2019-01-16',\n",
       "               '2019-01-17', '2019-01-18', '2019-01-19', '2019-01-20',\n",
       "               '2019-01-21', '2019-01-22', '2019-01-23', '2019-01-24',\n",
       "               '2019-01-25', '2019-01-26', '2019-01-27', '2019-01-28',\n",
       "               '2019-01-29', '2019-01-30', '2019-01-31', '2019-02-01',\n",
       "               '2019-02-02', '2019-02-03', '2019-02-04', '2019-02-05',\n",
       "               '2019-02-06', '2019-02-07', '2019-02-08', '2019-02-09',\n",
       "               '2019-02-10', '2019-02-11', '2019-02-12', '2019-02-13',\n",
       "               '2019-02-14', '2019-02-15', '2019-02-16', '2019-02-17',\n",
       "               '2019-02-18', '2019-02-19', '2019-02-20', '2019-02-21',\n",
       "               '2019-02-22', '2019-02-23', '2019-02-24', '2019-02-25',\n",
       "               '2019-02-26', '2019-02-27', '2019-02-28', '2019-03-01',\n",
       "               '2019-03-02', '2019-03-03', '2019-03-04', '2019-03-05',\n",
       "               '2019-03-06', '2019-03-07', '2019-03-08', '2019-03-09',\n",
       "               '2019-03-10', '2019-03-11', '2019-03-12', '2019-03-13',\n",
       "               '2019-03-14', '2019-03-15', '2019-03-16', '2019-03-17',\n",
       "               '2019-03-18', '2019-03-19', '2019-03-20', '2019-03-21',\n",
       "               '2019-03-22', '2019-03-23', '2019-03-24', '2019-03-25',\n",
       "               '2019-03-26', '2019-03-27', '2019-03-28', '2019-03-29',\n",
       "               '2019-03-30', '2019-03-31', '2019-04-01'],\n",
       "              dtype='datetime64[ns]', freq='D')"
      ]
     },
     "execution_count": 22,
     "metadata": {},
     "output_type": "execute_result"
    }
   ],
   "source": [
    "dates_2019 = pd.date_range(start='2019/01/01', end='2019/04/01') # default is daily data\n",
    "\n",
    "dates_2019"
   ]
  },
  {
   "cell_type": "markdown",
   "metadata": {},
   "source": [
    "For **discontinuous measurements**, you have to build your own list of dates either:\n",
    "- manually\n",
    "- or by importing your datasets with specific timestamps"
   ]
  },
  {
   "cell_type": "code",
   "execution_count": 36,
   "metadata": {},
   "outputs": [
    {
     "data": {
      "text/plain": [
       "[datetime.datetime(2019, 1, 1, 0, 0),\n",
       " datetime.datetime(2019, 1, 19, 0, 0),\n",
       " datetime.datetime(2019, 2, 25, 0, 0),\n",
       " datetime.datetime(2019, 3, 7, 0, 0),\n",
       " datetime.datetime(2019, 4, 1, 0, 0)]"
      ]
     },
     "execution_count": 36,
     "metadata": {},
     "output_type": "execute_result"
    }
   ],
   "source": [
    "list_of_dates = ['01/01/2019', '19/01/2019', '25/02/2019', '07/03/2019', '01/04/2019'] # day-first european style\n",
    "\n",
    "\n",
    "converted_list_of_dates = [parse(x, dayfirst=True) for x in list_of_dates]\n",
    "\n",
    "converted_list_of_dates"
   ]
  },
  {
   "cell_type": "markdown",
   "metadata": {},
   "source": [
    "Let's work with the data Manon provided where a calibrated age ```frame['Age. Cal. CE']``` is available"
   ]
  },
  {
   "cell_type": "code",
   "execution_count": 38,
   "metadata": {},
   "outputs": [
    {
     "data": {
      "text/plain": [
       "0    2018.00\n",
       "1    2017.97\n",
       "2    2017.81\n",
       "3    2017.65\n",
       "4    2017.57\n",
       "Name: Age. Cal. CE, dtype: float64"
      ]
     },
     "execution_count": 38,
     "metadata": {},
     "output_type": "execute_result"
    }
   ],
   "source": [
    "frame['Age. Cal. CE'].head() #print the first 5 values"
   ]
  },
  {
   "cell_type": "markdown",
   "metadata": {},
   "source": [
    "We need to transform this column into a date format pandas will familiar with \n",
    "\n",
    "There are several ways of doing that! "
   ]
  },
  {
   "cell_type": "markdown",
   "metadata": {},
   "source": [
    "**Extracting the year**"
   ]
  },
  {
   "cell_type": "code",
   "execution_count": 50,
   "metadata": {},
   "outputs": [
    {
     "data": {
      "text/plain": [
       "array([ 2018.,  2017.,  2017., ..., -9718., -9719., -9720.])"
      ]
     },
     "execution_count": 50,
     "metadata": {},
     "output_type": "execute_result"
    }
   ],
   "source": [
    "years = np.floor(frame['Age. Cal. CE'].values)\n",
    "\n",
    "years"
   ]
  },
  {
   "cell_type": "code",
   "execution_count": 84,
   "metadata": {},
   "outputs": [
    {
     "data": {
      "text/plain": [
       "array(['2018', '2017', '2017', ..., '-9718', '-9719', '-9720'],\n",
       "      dtype='<U11')"
      ]
     },
     "execution_count": 84,
     "metadata": {},
     "output_type": "execute_result"
    }
   ],
   "source": [
    "years = years.astype('int')\n",
    "\n",
    "years_str = years.astype('str')\n",
    "\n",
    "years_str"
   ]
  },
  {
   "cell_type": "markdown",
   "metadata": {},
   "source": [
    "**Extracting the month and the day**"
   ]
  },
  {
   "cell_type": "code",
   "execution_count": 98,
   "metadata": {},
   "outputs": [
    {
     "data": {
      "text/plain": [
       "array([0.  , 0.97, 0.81, ..., 0.62, 0.76, 0.91])"
      ]
     },
     "execution_count": 98,
     "metadata": {},
     "output_type": "execute_result"
    }
   ],
   "source": [
    "months_and_days = frame['Age. Cal. CE'].values - years\n",
    "\n",
    "months_and_days"
   ]
  },
  {
   "cell_type": "code",
   "execution_count": 99,
   "metadata": {},
   "outputs": [
    {
     "data": {
      "text/plain": [
       "array([  0, 354, 296, ..., 226, 278, 332])"
      ]
     },
     "execution_count": 99,
     "metadata": {},
     "output_type": "execute_result"
    }
   ],
   "source": [
    "months_and_days2 = np.round(months_and_days * 365.25)\n",
    "months_and_days3 = months_and_days2.astype('int') # integer\n",
    "months_and_days3"
   ]
  },
  {
   "cell_type": "code",
   "execution_count": 100,
   "metadata": {},
   "outputs": [
    {
     "data": {
      "text/plain": [
       "array([  1, 354, 296, ..., 226, 278, 332])"
      ]
     },
     "execution_count": 100,
     "metadata": {},
     "output_type": "execute_result"
    }
   ],
   "source": [
    "# set 0 equal to 1 (avoid problem with day of the year = 0)\n",
    "months_and_days3[months_and_days3 < 1] = 1 \n",
    "\n",
    "months_and_days3"
   ]
  },
  {
   "cell_type": "code",
   "execution_count": 101,
   "metadata": {},
   "outputs": [
    {
     "data": {
      "text/plain": [
       "array(['1', '354', '296', ..., '226', '278', '332'], dtype='<U11')"
      ]
     },
     "execution_count": 101,
     "metadata": {},
     "output_type": "execute_result"
    }
   ],
   "source": [
    "months_and_days_str = months_and_days3.astype('str')\n",
    "months_and_days_str"
   ]
  },
  {
   "cell_type": "code",
   "execution_count": 113,
   "metadata": {},
   "outputs": [
    {
     "data": {
      "text/plain": [
       "'2018/001'"
      ]
     },
     "execution_count": 113,
     "metadata": {},
     "output_type": "execute_result"
    }
   ],
   "source": [
    "tmp_date = years_str[0].zfill(4) + \"/\" + months_and_days_str[0].zfill(3) #zfill write 331 as 0331\n",
    "\n",
    "tmp_date"
   ]
  },
  {
   "cell_type": "code",
   "execution_count": 144,
   "metadata": {},
   "outputs": [
    {
     "data": {
      "text/plain": [
       "[datetime.datetime(2018, 1, 1, 0, 0),\n",
       " datetime.datetime(2017, 12, 20, 0, 0),\n",
       " datetime.datetime(2017, 10, 23, 0, 0),\n",
       " datetime.datetime(2017, 8, 25, 0, 0),\n",
       " datetime.datetime(2017, 7, 27, 0, 0)]"
      ]
     },
     "execution_count": 144,
     "metadata": {},
     "output_type": "execute_result"
    }
   ],
   "source": [
    "datetime_viking = [] # create an empty list\n",
    "\n",
    "# need to loop through the numpy array\n",
    "for ix, dates_i in np.ndenumerate(months_and_days_str): #loop through strings\n",
    "    \n",
    "    # we save only the dates before Jesus\n",
    "    if years[ix] > 0: #datetime does not support negative years or BC dates, need to work with Julian date format?\n",
    "        tmp_date = years_str[ix].zfill(4) + \"/\" + months_and_days_str[ix].zfill(3)\n",
    "        \n",
    "        # save to originally empty list\n",
    "        datetime_viking.append(datetime.strptime(tmp_date, '%Y/%j'))\n",
    "        \n",
    "datetime_viking[:5] # print first five dates"
   ]
  },
  {
   "cell_type": "code",
   "execution_count": 152,
   "metadata": {},
   "outputs": [
    {
     "data": {
      "text/plain": [
       "0    2018-01-01\n",
       "0    2017-12-20\n",
       "0    2017-10-23\n",
       "0    2017-08-25\n",
       "0    2017-07-27\n",
       "dtype: period[D]"
      ]
     },
     "execution_count": 152,
     "metadata": {},
     "output_type": "execute_result"
    }
   ],
   "source": [
    "# need to convert to pandas datetime (datetime_viking is a list while we need to work with pandas or numpy array)\n",
    "\n",
    "# empty panda series\n",
    "date_pandas = pd.Series([])\n",
    "\n",
    "#need to use period if we want to work with period younger than 1677\n",
    "\n",
    "for ix, datev in enumerate(datetime_viking):\n",
    "    \n",
    "    date_tmp = pd.Period(year= datetime_viking[ix].year, month =datetime_viking[ix].month, day = datetime_viking[ix].day, freq='D')  \n",
    "    #print (date_tmp)\n",
    "    date_pandas = date_pandas.append(pd.Series([date_tmp]))\n",
    "    \n",
    "date_pandas.head()"
   ]
  },
  {
   "cell_type": "code",
   "execution_count": 153,
   "metadata": {},
   "outputs": [
    {
     "data": {
      "text/html": [
       "<div>\n",
       "<style scoped>\n",
       "    .dataframe tbody tr th:only-of-type {\n",
       "        vertical-align: middle;\n",
       "    }\n",
       "\n",
       "    .dataframe tbody tr th {\n",
       "        vertical-align: top;\n",
       "    }\n",
       "\n",
       "    .dataframe thead th {\n",
       "        text-align: right;\n",
       "    }\n",
       "</style>\n",
       "<table border=\"1\" class=\"dataframe\">\n",
       "  <thead>\n",
       "    <tr style=\"text-align: right;\">\n",
       "      <th></th>\n",
       "      <th>depth (m)</th>\n",
       "      <th>Age_04032019_0,1mm_0,01yr</th>\n",
       "      <th>Age. Cal. CE</th>\n",
       "      <th>Al</th>\n",
       "      <th>Si</th>\n",
       "      <th>P</th>\n",
       "      <th>S</th>\n",
       "      <th>Cl</th>\n",
       "      <th>Ar</th>\n",
       "      <th>K</th>\n",
       "      <th>...</th>\n",
       "      <th>Si/Ti</th>\n",
       "      <th>P/Ti</th>\n",
       "      <th>Fe/Mn</th>\n",
       "      <th>Fe/Ti</th>\n",
       "      <th>Pb/Ti</th>\n",
       "      <th>S/OM</th>\n",
       "      <th>S/Ti</th>\n",
       "      <th>Hg/Mn</th>\n",
       "      <th>Hg/Ti.1</th>\n",
       "      <th>Hg/MO</th>\n",
       "    </tr>\n",
       "  </thead>\n",
       "  <tbody>\n",
       "    <tr>\n",
       "      <th>2018-01-01</th>\n",
       "      <td>0.0000</td>\n",
       "      <td>-68.00</td>\n",
       "      <td>2018.00</td>\n",
       "      <td>25</td>\n",
       "      <td>11</td>\n",
       "      <td>12</td>\n",
       "      <td>82</td>\n",
       "      <td>29</td>\n",
       "      <td>136</td>\n",
       "      <td>6</td>\n",
       "      <td>...</td>\n",
       "      <td>0.137500</td>\n",
       "      <td>0.150000</td>\n",
       "      <td>80.225806</td>\n",
       "      <td>62.175000</td>\n",
       "      <td>0.0</td>\n",
       "      <td>11.958182</td>\n",
       "      <td>1.025000</td>\n",
       "      <td>0.000000</td>\n",
       "      <td>0.000000</td>\n",
       "      <td>0.000000</td>\n",
       "    </tr>\n",
       "    <tr>\n",
       "      <th>2017-12-20</th>\n",
       "      <td>0.0002</td>\n",
       "      <td>-67.97</td>\n",
       "      <td>2017.97</td>\n",
       "      <td>22</td>\n",
       "      <td>0</td>\n",
       "      <td>18</td>\n",
       "      <td>76</td>\n",
       "      <td>23</td>\n",
       "      <td>167</td>\n",
       "      <td>19</td>\n",
       "      <td>...</td>\n",
       "      <td>0.000000</td>\n",
       "      <td>0.500000</td>\n",
       "      <td>98.203704</td>\n",
       "      <td>147.305556</td>\n",
       "      <td>0.0</td>\n",
       "      <td>10.919643</td>\n",
       "      <td>2.111111</td>\n",
       "      <td>3.092593</td>\n",
       "      <td>4.638889</td>\n",
       "      <td>23.994480</td>\n",
       "    </tr>\n",
       "    <tr>\n",
       "      <th>2017-10-23</th>\n",
       "      <td>0.0004</td>\n",
       "      <td>-67.81</td>\n",
       "      <td>2017.81</td>\n",
       "      <td>53</td>\n",
       "      <td>6</td>\n",
       "      <td>0</td>\n",
       "      <td>37</td>\n",
       "      <td>9</td>\n",
       "      <td>141</td>\n",
       "      <td>19</td>\n",
       "      <td>...</td>\n",
       "      <td>0.272727</td>\n",
       "      <td>0.000000</td>\n",
       "      <td>92.290323</td>\n",
       "      <td>260.090909</td>\n",
       "      <td>0.0</td>\n",
       "      <td>5.525249</td>\n",
       "      <td>1.681818</td>\n",
       "      <td>0.274194</td>\n",
       "      <td>0.772727</td>\n",
       "      <td>2.538628</td>\n",
       "    </tr>\n",
       "    <tr>\n",
       "      <th>2017-08-25</th>\n",
       "      <td>0.0006</td>\n",
       "      <td>-67.65</td>\n",
       "      <td>2017.65</td>\n",
       "      <td>18</td>\n",
       "      <td>6</td>\n",
       "      <td>17</td>\n",
       "      <td>64</td>\n",
       "      <td>8</td>\n",
       "      <td>167</td>\n",
       "      <td>23</td>\n",
       "      <td>...</td>\n",
       "      <td>0.157895</td>\n",
       "      <td>0.447368</td>\n",
       "      <td>138.069767</td>\n",
       "      <td>156.236842</td>\n",
       "      <td>0.0</td>\n",
       "      <td>9.239006</td>\n",
       "      <td>1.684211</td>\n",
       "      <td>0.000000</td>\n",
       "      <td>0.000000</td>\n",
       "      <td>0.000000</td>\n",
       "    </tr>\n",
       "    <tr>\n",
       "      <th>2017-07-27</th>\n",
       "      <td>0.0008</td>\n",
       "      <td>-67.57</td>\n",
       "      <td>2017.57</td>\n",
       "      <td>36</td>\n",
       "      <td>32</td>\n",
       "      <td>22</td>\n",
       "      <td>74</td>\n",
       "      <td>13</td>\n",
       "      <td>129</td>\n",
       "      <td>23</td>\n",
       "      <td>...</td>\n",
       "      <td>0.323232</td>\n",
       "      <td>0.222222</td>\n",
       "      <td>75.576471</td>\n",
       "      <td>64.888889</td>\n",
       "      <td>0.0</td>\n",
       "      <td>10.632997</td>\n",
       "      <td>0.747475</td>\n",
       "      <td>1.000000</td>\n",
       "      <td>0.858586</td>\n",
       "      <td>12.213577</td>\n",
       "    </tr>\n",
       "  </tbody>\n",
       "</table>\n",
       "<p>5 rows × 45 columns</p>\n",
       "</div>"
      ],
      "text/plain": [
       "            depth (m)  Age_04032019_0,1mm_0,01yr  Age. Cal. CE  Al  Si   P  \\\n",
       "2018-01-01     0.0000                     -68.00       2018.00  25  11  12   \n",
       "2017-12-20     0.0002                     -67.97       2017.97  22   0  18   \n",
       "2017-10-23     0.0004                     -67.81       2017.81  53   6   0   \n",
       "2017-08-25     0.0006                     -67.65       2017.65  18   6  17   \n",
       "2017-07-27     0.0008                     -67.57       2017.57  36  32  22   \n",
       "\n",
       "             S  Cl   Ar   K  ...     Si/Ti      P/Ti       Fe/Mn       Fe/Ti  \\\n",
       "2018-01-01  82  29  136   6  ...  0.137500  0.150000   80.225806   62.175000   \n",
       "2017-12-20  76  23  167  19  ...  0.000000  0.500000   98.203704  147.305556   \n",
       "2017-10-23  37   9  141  19  ...  0.272727  0.000000   92.290323  260.090909   \n",
       "2017-08-25  64   8  167  23  ...  0.157895  0.447368  138.069767  156.236842   \n",
       "2017-07-27  74  13  129  23  ...  0.323232  0.222222   75.576471   64.888889   \n",
       "\n",
       "            Pb/Ti       S/OM      S/Ti     Hg/Mn   Hg/Ti.1      Hg/MO  \n",
       "2018-01-01    0.0  11.958182  1.025000  0.000000  0.000000   0.000000  \n",
       "2017-12-20    0.0  10.919643  2.111111  3.092593  4.638889  23.994480  \n",
       "2017-10-23    0.0   5.525249  1.681818  0.274194  0.772727   2.538628  \n",
       "2017-08-25    0.0   9.239006  1.684211  0.000000  0.000000   0.000000  \n",
       "2017-07-27    0.0  10.632997  0.747475  1.000000  0.858586  12.213577  \n",
       "\n",
       "[5 rows x 45 columns]"
      ]
     },
     "execution_count": 153,
     "metadata": {},
     "output_type": "execute_result"
    }
   ],
   "source": [
    "# we need to create a new data frame containing only data before JC\n",
    "frame_shortened = frame.iloc[0:len(datetime_viking)]\n",
    "\n",
    "# and we set the dates as index\n",
    "frame_shortened.index = date_pandas\n",
    "\n",
    "# let's have a look at the dataframe\n",
    "frame_shortened.head()"
   ]
  },
  {
   "cell_type": "markdown",
   "metadata": {},
   "source": [
    "## Resampling and Frequency Conversion\n",
    "\n",
    "Let's say we would like to downsample for every year."
   ]
  },
  {
   "cell_type": "code",
   "execution_count": 168,
   "metadata": {},
   "outputs": [
    {
     "data": {
      "text/html": [
       "<div>\n",
       "<style scoped>\n",
       "    .dataframe tbody tr th:only-of-type {\n",
       "        vertical-align: middle;\n",
       "    }\n",
       "\n",
       "    .dataframe tbody tr th {\n",
       "        vertical-align: top;\n",
       "    }\n",
       "\n",
       "    .dataframe thead th {\n",
       "        text-align: right;\n",
       "    }\n",
       "</style>\n",
       "<table border=\"1\" class=\"dataframe\">\n",
       "  <thead>\n",
       "    <tr style=\"text-align: right;\">\n",
       "      <th></th>\n",
       "      <th>depth (m)</th>\n",
       "      <th>Age_04032019_0,1mm_0,01yr</th>\n",
       "      <th>Age. Cal. CE</th>\n",
       "      <th>Al</th>\n",
       "      <th>Si</th>\n",
       "      <th>P</th>\n",
       "      <th>S</th>\n",
       "      <th>Cl</th>\n",
       "      <th>Ar</th>\n",
       "      <th>K</th>\n",
       "      <th>...</th>\n",
       "      <th>Si/Ti</th>\n",
       "      <th>P/Ti</th>\n",
       "      <th>Fe/Mn</th>\n",
       "      <th>Fe/Ti</th>\n",
       "      <th>Pb/Ti</th>\n",
       "      <th>S/OM</th>\n",
       "      <th>S/Ti</th>\n",
       "      <th>Hg/Mn</th>\n",
       "      <th>Hg/Ti.1</th>\n",
       "      <th>Hg/MO</th>\n",
       "    </tr>\n",
       "  </thead>\n",
       "  <tbody>\n",
       "    <tr>\n",
       "      <th>0001</th>\n",
       "      <td>2.4745</td>\n",
       "      <td>1936.472647</td>\n",
       "      <td>13.527353</td>\n",
       "      <td>29.872549</td>\n",
       "      <td>35.637255</td>\n",
       "      <td>25.529412</td>\n",
       "      <td>38.784314</td>\n",
       "      <td>11.509804</td>\n",
       "      <td>86.343137</td>\n",
       "      <td>25.294118</td>\n",
       "      <td>...</td>\n",
       "      <td>0.979590</td>\n",
       "      <td>0.795697</td>\n",
       "      <td>131.434015</td>\n",
       "      <td>1134.813577</td>\n",
       "      <td>4.476796</td>\n",
       "      <td>6.954856</td>\n",
       "      <td>1.150850</td>\n",
       "      <td>0.232581</td>\n",
       "      <td>1.461225</td>\n",
       "      <td>9.769755</td>\n",
       "    </tr>\n",
       "    <tr>\n",
       "      <th>0026</th>\n",
       "      <td>2.4536</td>\n",
       "      <td>1911.445607</td>\n",
       "      <td>38.554393</td>\n",
       "      <td>29.121495</td>\n",
       "      <td>29.831776</td>\n",
       "      <td>23.420561</td>\n",
       "      <td>40.149533</td>\n",
       "      <td>9.485981</td>\n",
       "      <td>85.831776</td>\n",
       "      <td>22.364486</td>\n",
       "      <td>...</td>\n",
       "      <td>1.008435</td>\n",
       "      <td>0.809064</td>\n",
       "      <td>129.686522</td>\n",
       "      <td>1026.843370</td>\n",
       "      <td>4.456455</td>\n",
       "      <td>7.024561</td>\n",
       "      <td>1.338224</td>\n",
       "      <td>0.202993</td>\n",
       "      <td>1.404651</td>\n",
       "      <td>7.962508</td>\n",
       "    </tr>\n",
       "    <tr>\n",
       "      <th>0051</th>\n",
       "      <td>2.4319</td>\n",
       "      <td>1886.336636</td>\n",
       "      <td>63.663364</td>\n",
       "      <td>26.600000</td>\n",
       "      <td>25.218182</td>\n",
       "      <td>22.481818</td>\n",
       "      <td>46.072727</td>\n",
       "      <td>8.127273</td>\n",
       "      <td>81.954545</td>\n",
       "      <td>34.800000</td>\n",
       "      <td>...</td>\n",
       "      <td>0.470982</td>\n",
       "      <td>0.422703</td>\n",
       "      <td>152.744324</td>\n",
       "      <td>754.936524</td>\n",
       "      <td>2.395731</td>\n",
       "      <td>8.270683</td>\n",
       "      <td>0.859799</td>\n",
       "      <td>0.205130</td>\n",
       "      <td>0.749769</td>\n",
       "      <td>8.938881</td>\n",
       "    </tr>\n",
       "    <tr>\n",
       "      <th>0076</th>\n",
       "      <td>2.4096</td>\n",
       "      <td>1861.424425</td>\n",
       "      <td>88.575575</td>\n",
       "      <td>29.929204</td>\n",
       "      <td>33.230088</td>\n",
       "      <td>20.300885</td>\n",
       "      <td>38.823009</td>\n",
       "      <td>8.345133</td>\n",
       "      <td>82.504425</td>\n",
       "      <td>33.964602</td>\n",
       "      <td>...</td>\n",
       "      <td>0.731724</td>\n",
       "      <td>0.487536</td>\n",
       "      <td>159.460980</td>\n",
       "      <td>795.447998</td>\n",
       "      <td>2.962079</td>\n",
       "      <td>6.818901</td>\n",
       "      <td>0.907021</td>\n",
       "      <td>0.253967</td>\n",
       "      <td>1.129387</td>\n",
       "      <td>9.451832</td>\n",
       "    </tr>\n",
       "    <tr>\n",
       "      <th>0101</th>\n",
       "      <td>2.3865</td>\n",
       "      <td>1836.523390</td>\n",
       "      <td>113.476610</td>\n",
       "      <td>30.796610</td>\n",
       "      <td>30.415254</td>\n",
       "      <td>21.788136</td>\n",
       "      <td>34.127119</td>\n",
       "      <td>8.194915</td>\n",
       "      <td>83.338983</td>\n",
       "      <td>40.889831</td>\n",
       "      <td>...</td>\n",
       "      <td>0.442983</td>\n",
       "      <td>0.336578</td>\n",
       "      <td>145.457037</td>\n",
       "      <td>574.431424</td>\n",
       "      <td>1.479630</td>\n",
       "      <td>6.148550</td>\n",
       "      <td>0.520424</td>\n",
       "      <td>0.180213</td>\n",
       "      <td>0.666759</td>\n",
       "      <td>8.252349</td>\n",
       "    </tr>\n",
       "  </tbody>\n",
       "</table>\n",
       "<p>5 rows × 45 columns</p>\n",
       "</div>"
      ],
      "text/plain": [
       "      depth (m)  Age_04032019_0,1mm_0,01yr  Age. Cal. CE         Al  \\\n",
       "0001     2.4745                1936.472647     13.527353  29.872549   \n",
       "0026     2.4536                1911.445607     38.554393  29.121495   \n",
       "0051     2.4319                1886.336636     63.663364  26.600000   \n",
       "0076     2.4096                1861.424425     88.575575  29.929204   \n",
       "0101     2.3865                1836.523390    113.476610  30.796610   \n",
       "\n",
       "             Si          P          S         Cl         Ar          K  ...  \\\n",
       "0001  35.637255  25.529412  38.784314  11.509804  86.343137  25.294118  ...   \n",
       "0026  29.831776  23.420561  40.149533   9.485981  85.831776  22.364486  ...   \n",
       "0051  25.218182  22.481818  46.072727   8.127273  81.954545  34.800000  ...   \n",
       "0076  33.230088  20.300885  38.823009   8.345133  82.504425  33.964602  ...   \n",
       "0101  30.415254  21.788136  34.127119   8.194915  83.338983  40.889831  ...   \n",
       "\n",
       "         Si/Ti      P/Ti       Fe/Mn        Fe/Ti     Pb/Ti      S/OM  \\\n",
       "0001  0.979590  0.795697  131.434015  1134.813577  4.476796  6.954856   \n",
       "0026  1.008435  0.809064  129.686522  1026.843370  4.456455  7.024561   \n",
       "0051  0.470982  0.422703  152.744324   754.936524  2.395731  8.270683   \n",
       "0076  0.731724  0.487536  159.460980   795.447998  2.962079  6.818901   \n",
       "0101  0.442983  0.336578  145.457037   574.431424  1.479630  6.148550   \n",
       "\n",
       "          S/Ti     Hg/Mn   Hg/Ti.1     Hg/MO  \n",
       "0001  1.150850  0.232581  1.461225  9.769755  \n",
       "0026  1.338224  0.202993  1.404651  7.962508  \n",
       "0051  0.859799  0.205130  0.749769  8.938881  \n",
       "0076  0.907021  0.253967  1.129387  9.451832  \n",
       "0101  0.520424  0.180213  0.666759  8.252349  \n",
       "\n",
       "[5 rows x 45 columns]"
      ]
     },
     "execution_count": 168,
     "metadata": {},
     "output_type": "execute_result"
    }
   ],
   "source": [
    "nframe_resampled = frame_shortened.resample('25Y').mean() # seems that it's indexing from year 0000 and to our time now\n",
    "nframe_resampled.head()\n",
    "#every 10 years\n",
    "#frame_shortened.resample('10Y').mean().head()\n",
    "\n",
    "# you can also sum the values\n",
    "#frame_shortened.resample('Y').sum().head()\n",
    "#frame_shortened.resample('Y', closed='right').sum().head()"
   ]
  },
  {
   "cell_type": "code",
   "execution_count": 156,
   "metadata": {},
   "outputs": [
    {
     "data": {
      "text/html": [
       "<div>\n",
       "<style scoped>\n",
       "    .dataframe tbody tr th:only-of-type {\n",
       "        vertical-align: middle;\n",
       "    }\n",
       "\n",
       "    .dataframe tbody tr th {\n",
       "        vertical-align: top;\n",
       "    }\n",
       "\n",
       "    .dataframe thead th {\n",
       "        text-align: right;\n",
       "    }\n",
       "</style>\n",
       "<table border=\"1\" class=\"dataframe\">\n",
       "  <thead>\n",
       "    <tr style=\"text-align: right;\">\n",
       "      <th></th>\n",
       "      <th>depth (m)</th>\n",
       "      <th>Age_04032019_0,1mm_0,01yr</th>\n",
       "      <th>Age. Cal. CE</th>\n",
       "      <th>Al</th>\n",
       "      <th>Si</th>\n",
       "      <th>P</th>\n",
       "      <th>S</th>\n",
       "      <th>Cl</th>\n",
       "      <th>Ar</th>\n",
       "      <th>K</th>\n",
       "      <th>...</th>\n",
       "      <th>Si/Ti</th>\n",
       "      <th>P/Ti</th>\n",
       "      <th>Fe/Mn</th>\n",
       "      <th>Fe/Ti</th>\n",
       "      <th>Pb/Ti</th>\n",
       "      <th>S/OM</th>\n",
       "      <th>S/Ti</th>\n",
       "      <th>Hg/Mn</th>\n",
       "      <th>Hg/Ti.1</th>\n",
       "      <th>Hg/MO</th>\n",
       "    </tr>\n",
       "  </thead>\n",
       "  <tbody>\n",
       "    <tr>\n",
       "      <th>0002-02-24</th>\n",
       "      <td>2.4838</td>\n",
       "      <td>1947.85</td>\n",
       "      <td>2.15</td>\n",
       "      <td>47</td>\n",
       "      <td>37</td>\n",
       "      <td>40</td>\n",
       "      <td>83</td>\n",
       "      <td>22</td>\n",
       "      <td>95</td>\n",
       "      <td>28</td>\n",
       "      <td>...</td>\n",
       "      <td>1.370370</td>\n",
       "      <td>1.481481</td>\n",
       "      <td>112.800000</td>\n",
       "      <td>814.666667</td>\n",
       "      <td>1.148148</td>\n",
       "      <td>13.990493</td>\n",
       "      <td>3.074074</td>\n",
       "      <td>0.000000</td>\n",
       "      <td>0.000000</td>\n",
       "      <td>0.000000</td>\n",
       "    </tr>\n",
       "    <tr>\n",
       "      <th>0001-11-25</th>\n",
       "      <td>2.4840</td>\n",
       "      <td>1948.10</td>\n",
       "      <td>1.90</td>\n",
       "      <td>60</td>\n",
       "      <td>60</td>\n",
       "      <td>58</td>\n",
       "      <td>46</td>\n",
       "      <td>8</td>\n",
       "      <td>88</td>\n",
       "      <td>50</td>\n",
       "      <td>...</td>\n",
       "      <td>1.578947</td>\n",
       "      <td>1.526316</td>\n",
       "      <td>152.258741</td>\n",
       "      <td>572.973684</td>\n",
       "      <td>3.605263</td>\n",
       "      <td>7.659947</td>\n",
       "      <td>1.210526</td>\n",
       "      <td>0.153846</td>\n",
       "      <td>0.578947</td>\n",
       "      <td>3.663453</td>\n",
       "    </tr>\n",
       "    <tr>\n",
       "      <th>0001-08-25</th>\n",
       "      <td>2.4842</td>\n",
       "      <td>1948.35</td>\n",
       "      <td>1.65</td>\n",
       "      <td>43</td>\n",
       "      <td>53</td>\n",
       "      <td>27</td>\n",
       "      <td>34</td>\n",
       "      <td>25</td>\n",
       "      <td>78</td>\n",
       "      <td>40</td>\n",
       "      <td>...</td>\n",
       "      <td>0.768116</td>\n",
       "      <td>0.391304</td>\n",
       "      <td>135.043750</td>\n",
       "      <td>313.144928</td>\n",
       "      <td>1.289855</td>\n",
       "      <td>5.718358</td>\n",
       "      <td>0.492754</td>\n",
       "      <td>0.000000</td>\n",
       "      <td>0.000000</td>\n",
       "      <td>0.000000</td>\n",
       "    </tr>\n",
       "    <tr>\n",
       "      <th>0001-05-30</th>\n",
       "      <td>2.4844</td>\n",
       "      <td>1948.59</td>\n",
       "      <td>1.41</td>\n",
       "      <td>46</td>\n",
       "      <td>61</td>\n",
       "      <td>0</td>\n",
       "      <td>18</td>\n",
       "      <td>27</td>\n",
       "      <td>78</td>\n",
       "      <td>16</td>\n",
       "      <td>...</td>\n",
       "      <td>0.835616</td>\n",
       "      <td>0.000000</td>\n",
       "      <td>138.789157</td>\n",
       "      <td>315.602740</td>\n",
       "      <td>0.602740</td>\n",
       "      <td>2.930467</td>\n",
       "      <td>0.246575</td>\n",
       "      <td>0.512048</td>\n",
       "      <td>1.164384</td>\n",
       "      <td>13.838318</td>\n",
       "    </tr>\n",
       "    <tr>\n",
       "      <th>0001-02-27</th>\n",
       "      <td>2.4846</td>\n",
       "      <td>1948.84</td>\n",
       "      <td>1.16</td>\n",
       "      <td>20</td>\n",
       "      <td>39</td>\n",
       "      <td>9</td>\n",
       "      <td>38</td>\n",
       "      <td>14</td>\n",
       "      <td>77</td>\n",
       "      <td>39</td>\n",
       "      <td>...</td>\n",
       "      <td>1.218750</td>\n",
       "      <td>0.281250</td>\n",
       "      <td>156.391608</td>\n",
       "      <td>698.875000</td>\n",
       "      <td>5.500000</td>\n",
       "      <td>6.093947</td>\n",
       "      <td>1.187500</td>\n",
       "      <td>0.000000</td>\n",
       "      <td>0.000000</td>\n",
       "      <td>0.000000</td>\n",
       "    </tr>\n",
       "  </tbody>\n",
       "</table>\n",
       "<p>5 rows × 45 columns</p>\n",
       "</div>"
      ],
      "text/plain": [
       "            depth (m)  Age_04032019_0,1mm_0,01yr  Age. Cal. CE  Al  Si   P  \\\n",
       "0002-02-24     2.4838                    1947.85          2.15  47  37  40   \n",
       "0001-11-25     2.4840                    1948.10          1.90  60  60  58   \n",
       "0001-08-25     2.4842                    1948.35          1.65  43  53  27   \n",
       "0001-05-30     2.4844                    1948.59          1.41  46  61   0   \n",
       "0001-02-27     2.4846                    1948.84          1.16  20  39   9   \n",
       "\n",
       "             S  Cl  Ar   K  ...     Si/Ti      P/Ti       Fe/Mn       Fe/Ti  \\\n",
       "0002-02-24  83  22  95  28  ...  1.370370  1.481481  112.800000  814.666667   \n",
       "0001-11-25  46   8  88  50  ...  1.578947  1.526316  152.258741  572.973684   \n",
       "0001-08-25  34  25  78  40  ...  0.768116  0.391304  135.043750  313.144928   \n",
       "0001-05-30  18  27  78  16  ...  0.835616  0.000000  138.789157  315.602740   \n",
       "0001-02-27  38  14  77  39  ...  1.218750  0.281250  156.391608  698.875000   \n",
       "\n",
       "               Pb/Ti       S/OM      S/Ti     Hg/Mn   Hg/Ti.1      Hg/MO  \n",
       "0002-02-24  1.148148  13.990493  3.074074  0.000000  0.000000   0.000000  \n",
       "0001-11-25  3.605263   7.659947  1.210526  0.153846  0.578947   3.663453  \n",
       "0001-08-25  1.289855   5.718358  0.492754  0.000000  0.000000   0.000000  \n",
       "0001-05-30  0.602740   2.930467  0.246575  0.512048  1.164384  13.838318  \n",
       "0001-02-27  5.500000   6.093947  1.187500  0.000000  0.000000   0.000000  \n",
       "\n",
       "[5 rows x 45 columns]"
      ]
     },
     "execution_count": 156,
     "metadata": {},
     "output_type": "execute_result"
    }
   ],
   "source": [
    "frame_shortened.tail()"
   ]
  },
  {
   "cell_type": "markdown",
   "metadata": {},
   "source": [
    "## Does this help with the interpretation of the data?"
   ]
  },
  {
   "cell_type": "code",
   "execution_count": 170,
   "metadata": {},
   "outputs": [
    {
     "data": {
      "image/png": "[encoded data removed]",
      "text/plain": [
       "<Figure size 1152x576 with 3 Axes>"
      ]
     },
     "metadata": {
      "needs_background": "light"
     },
     "output_type": "display_data"
    }
   ],
   "source": [
    "fig = plt.figure(figsize=(16,8))\n",
    "\n",
    "\n",
    "gs=GridSpec(2,4) # 2 rows, 4 columns\n",
    "\n",
    "ax1=fig.add_subplot(gs[:,:2]) # Span all rows, firs two columns\n",
    "ax2=fig.add_subplot(gs[:,2]) # Span all rows, third column\n",
    "ax3=fig.add_subplot(gs[:,3]) # Span all rows, fourth column\n",
    "\n",
    "ax1.set_title('Calibrated Age')\n",
    "ax2.set_title('Aluminium content')\n",
    "ax3.set_title('Silicate content')\n",
    "\n",
    "ax1.plot(nframe_resampled['Age. Cal. CE'],nframe_resampled['depth (m)'],\"k-o\")\n",
    "ax1.set_xlim(ax1.get_xlim()[::-1]) \n",
    "ax1.set_ylim(ax1.get_ylim()[::-1]) \n",
    "\n",
    "ax2.plot(nframe_resampled['Al'],nframe_resampled['depth (m)'],\"b-o\")\n",
    "ax2.set_xlim(ax2.get_xlim()[::-1]) \n",
    "ax2.set_ylim(ax1.get_ylim()[::-1]) \n",
    "\n",
    "ax3.plot(nframe_resampled['Si'],nframe_resampled['depth (m)'],\"r-o\")\n",
    "ax3.set_xlim(ax3.get_xlim()[::-1]) \n",
    "ax3.set_ylim(ax3.get_ylim()[::-1]) \n",
    "\n",
    "fig.tight_layout()"
   ]
  },
  {
   "cell_type": "code",
   "execution_count": null,
   "metadata": {},
   "outputs": [],
   "source": []
  }
 ],
 "metadata": {
  "kernelspec": {
   "display_name": "Python 3",
   "language": "python",
   "name": "python3"
  },
  "language_info": {
   "codemirror_mode": {
    "name": "ipython",
    "version": 3
   },
   "file_extension": ".py",
   "mimetype": "text/x-python",
   "name": "python",
   "nbconvert_exporter": "python",
   "pygments_lexer": "ipython3",
   "version": "3.6.3"
  },
  "toc": {
   "base_numbering": 1,
   "nav_menu": {},
   "number_sections": true,
   "sideBar": true,
   "skip_h1_title": false,
   "title_cell": "Table of Contents",
   "title_sidebar": "Contents",
   "toc_cell": false,
   "toc_position": {},
   "toc_section_display": true,
   "toc_window_display": false
  },
  "widgets": {
   "application/vnd.jupyter.widget-state+json": {
    "state": {},
    "version_major": 2,
    "version_minor": 0
   }
  }
 },
 "nbformat": 4,
 "nbformat_minor": 2
}
